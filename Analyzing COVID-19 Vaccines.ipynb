{
 "cells": [
  {
   "cell_type": "markdown",
   "metadata": {},
   "source": [
    "# <center>Analyzing COVID-19 Vaccines Tweets<center>"
   ]
  },
  {
   "cell_type": "markdown",
   "metadata": {},
   "source": [
    "## Streaming Live Tweets on Certain dates"
   ]
  },
  {
   "cell_type": "markdown",
   "metadata": {},
   "source": [
    "Tweets will be streamed on different dates and stored into a text file, we streamed on two days, on February 21 and 23 2021. We  put several key words about the vaccines(tried to specify it to Lebanon since the geo argument and the key terms do not work together in tweepy), we specified the langauges to be Arabic and English, we stored the files into one text file for retrival.\n",
    "\n",
    "The keys are considered private codes and need to be obtained by Twitter, that is why they were coded as stars."
   ]
  },
  {
   "cell_type": "code",
   "execution_count": null,
   "metadata": {},
   "outputs": [],
   "source": [
    "import tweepy\n",
    "from tweepy.streaming import StreamListener\n",
    "from tweepy import OAuthHandler\n",
    "from tweepy import Stream \n",
    "import json\n",
    "\n",
    "#access keys from twitter\n",
    "consumer_key = '********************'\n",
    "consumer_key_secret = '**************************'\n",
    "token_key = '***********************************'\n",
    "token_secert = '**************************'\n",
    "\n",
    "#define the stream function\n",
    "class TwitterStreamer():\n",
    "    def stream_tweets(self, file_name, hash_tag_list):\n",
    "        listener = StdOutListener(file_name)\n",
    "        auth = OAuthHandler(consumer_key, consumer_key_secret)\n",
    "        auth.set_access_token(token_key, token_secert)\n",
    "        stream = Stream(auth, listener)\n",
    "        stream.filter(track = hash_tag_list, languages = ['en', 'ar'])\n",
    "class StdOutListener(StreamListener):\n",
    "    def __init__(self, file_name):\n",
    "        self.file_name = file_name\n",
    "    def on_data(self, data):\n",
    "        try:\n",
    "            print(data)\n",
    "            with open(self.file_name, 'a') as tf:\n",
    "                    tf.write(data)\n",
    "            return True\n",
    "        except BaseException as e:\n",
    "            print('Error on_data: %s' % str(e))\n",
    "        return True\n",
    "    def on_error(self, status):\n",
    "        print(status)\n",
    "\n",
    "if __name__=='__main__':\n",
    "    hash_tag_list = ['Corona vaccines', 'Lebanon vaccines', 'Pfizer Lebanon', 'لقاحات لبنان', 'لقاح كورونا لبنان', 'Covid19 vaccines']\n",
    "    file_name = \"data.txt\"\n",
    "    \n",
    "    twitter_streamer = TwitterStreamer()\n",
    "    twitter_streamer.stream_tweets(file_name, hash_tag_list)\n"
   ]
  },
  {
   "cell_type": "markdown",
   "metadata": {},
   "source": [
    "## Reading the text file into JSON and extracting specific data that we choose to analyze"
   ]
  },
  {
   "cell_type": "markdown",
   "metadata": {},
   "source": [
    "We converted the combined data text file into a json file, then we inspected the first tweet to extract the data that we want from the tweets. We got the text, truncated, location, quote_count, reply_count, retweet_count, favorite_count, and language.\n",
    "\n",
    "Note that we tried to get the extended text for full tweet if exists, otherwise we got the truncated one, same applies for counts.\n",
    "Also, we got the location as defined by the user at the time the tweet was written not the actual location defined by twitter as many users do not enable their location on their phones, which means that twitter can not detect their location. "
   ]
  },
  {
   "cell_type": "code",
   "execution_count": 1,
   "metadata": {},
   "outputs": [],
   "source": [
    "#import libraries\n",
    "import pandas as pd\n",
    "import csv\n",
    "import json\n",
    "import re\n",
    "\n",
    "#coverting the text into json \n",
    "tweets_data_path = \"data.txt\"  \n",
    "tweets_data = []  \n",
    "tweets_file = open(tweets_data_path, \"r\")  \n",
    "for line in tweets_file:  \n",
    "    try:  \n",
    "        tweet = json.loads(line)  \n",
    "        tweets_data.append(tweet)  \n",
    "    except:  \n",
    "        continue\n",
    "tweets_file.close()"
   ]
  },
  {
   "cell_type": "code",
   "execution_count": null,
   "metadata": {},
   "outputs": [],
   "source": [
    "#inspect the first tweet\n",
    "tweets_data[0]"
   ]
  },
  {
   "cell_type": "code",
   "execution_count": null,
   "metadata": {},
   "outputs": [],
   "source": [
    "#extract relevant information for analysis \n",
    "tweets = pd.DataFrame()\n",
    "tweets['text'] = list(map(lambda tweet: tweet['text'] if 'extended_tweet' not in tweet else tweet ['extended_tweet']['full_text'], tweets_data))\n",
    "tweets['truncated'] = list(map(lambda tweet: tweet['truncated'], tweets_data))\n",
    "tweets['location'] = list(map(lambda tweet: tweet['user']['location'], tweets_data))\n",
    "tweets['quote_count'] = list(map(lambda tweet: tweet['quote_count'] if 'retweeted_status' not in tweet else tweet ['retweeted_status']['quote_count'], tweets_data))\n",
    "tweets['reply_count'] = list(map(lambda tweet: tweet['reply_count'] if 'retweeted_status' not in tweet else tweet ['retweeted_status']['reply_count'], tweets_data))\n",
    "tweets['retweet_count'] = list(map(lambda tweet: tweet['retweet_count'] if 'retweeted_status' not in tweet else tweet ['retweeted_status']['retweet_count'], tweets_data))\n",
    "tweets['favorite_count'] = list(map(lambda tweet: tweet['favorite_count'] if 'retweeted_status' not in tweet else tweet ['retweeted_status']['favorite_count'], tweets_data))\n",
    "tweets['language'] = list(map(lambda tweet: tweet['lang'], tweets_data))\n",
    "tweets.shape\n",
    "tweets"
   ]
  },
  {
   "cell_type": "markdown",
   "metadata": {},
   "source": [
    "we noticed that some tweet were fetched in different languages but we are only interested in arabic and english tweets."
   ]
  },
  {
   "cell_type": "code",
   "execution_count": null,
   "metadata": {},
   "outputs": [],
   "source": [
    "#extract tweets in english and arabic languages \n",
    "data = tweets[(tweets['language'] == 'ar') | (tweets['language'] == 'en')]"
   ]
  },
  {
   "cell_type": "code",
   "execution_count": null,
   "metadata": {},
   "outputs": [],
   "source": [
    "#save data to csv for cleaning and analyzing\n",
    "data.to_csv('data.csv', index=None)"
   ]
  },
  {
   "cell_type": "markdown",
   "metadata": {},
   "source": [
    "## Cleaning the entire dataset"
   ]
  },
  {
   "cell_type": "markdown",
   "metadata": {},
   "source": [
    "We can either reload the data as done below or we can clean it directly.\n",
    "\n",
    "We will drop columns that we don't need, change columns names, change columns type, fill missing data, remove outliers, and clean the tweets from emojies, hashtages, mentions, and other characters."
   ]
  },
  {
   "cell_type": "code",
   "execution_count": 53,
   "metadata": {},
   "outputs": [
    {
     "data": {
      "text/html": [
       "<div>\n",
       "<style scoped>\n",
       "    .dataframe tbody tr th:only-of-type {\n",
       "        vertical-align: middle;\n",
       "    }\n",
       "\n",
       "    .dataframe tbody tr th {\n",
       "        vertical-align: top;\n",
       "    }\n",
       "\n",
       "    .dataframe thead th {\n",
       "        text-align: right;\n",
       "    }\n",
       "</style>\n",
       "<table border=\"1\" class=\"dataframe\">\n",
       "  <thead>\n",
       "    <tr style=\"text-align: right;\">\n",
       "      <th></th>\n",
       "      <th>text</th>\n",
       "      <th>truncated</th>\n",
       "      <th>location</th>\n",
       "      <th>quote_count</th>\n",
       "      <th>reply_count</th>\n",
       "      <th>retweet_count</th>\n",
       "      <th>favorite_count</th>\n",
       "      <th>language</th>\n",
       "    </tr>\n",
       "  </thead>\n",
       "  <tbody>\n",
       "    <tr>\n",
       "      <th>0</th>\n",
       "      <td>RT @Jscott916: @Geega1st @AynRandPaulRyan @th3...</td>\n",
       "      <td>False</td>\n",
       "      <td>NaN</td>\n",
       "      <td>0</td>\n",
       "      <td>0</td>\n",
       "      <td>1</td>\n",
       "      <td>1</td>\n",
       "      <td>en</td>\n",
       "    </tr>\n",
       "    <tr>\n",
       "      <th>1</th>\n",
       "      <td>RT @DrEricDing: Sweden 🇸🇪 strategy success??? ...</td>\n",
       "      <td>False</td>\n",
       "      <td>Here and there.</td>\n",
       "      <td>261</td>\n",
       "      <td>156</td>\n",
       "      <td>1791</td>\n",
       "      <td>3925</td>\n",
       "      <td>en</td>\n",
       "    </tr>\n",
       "    <tr>\n",
       "      <th>2</th>\n",
       "      <td>RT @N_ProudTegryan: @jaketapper Dear @jaketapp...</td>\n",
       "      <td>False</td>\n",
       "      <td>NaN</td>\n",
       "      <td>0</td>\n",
       "      <td>0</td>\n",
       "      <td>1</td>\n",
       "      <td>1</td>\n",
       "      <td>en</td>\n",
       "    </tr>\n",
       "    <tr>\n",
       "      <th>3</th>\n",
       "      <td>@JamesWard73 @bealelab @BristOliver Active sup...</td>\n",
       "      <td>True</td>\n",
       "      <td>UK</td>\n",
       "      <td>0</td>\n",
       "      <td>0</td>\n",
       "      <td>0</td>\n",
       "      <td>0</td>\n",
       "      <td>en</td>\n",
       "    </tr>\n",
       "    <tr>\n",
       "      <th>4</th>\n",
       "      <td>RT @washingtonpost: Winter storms delay distri...</td>\n",
       "      <td>False</td>\n",
       "      <td>Chicago, IL</td>\n",
       "      <td>0</td>\n",
       "      <td>12</td>\n",
       "      <td>39</td>\n",
       "      <td>96</td>\n",
       "      <td>en</td>\n",
       "    </tr>\n",
       "  </tbody>\n",
       "</table>\n",
       "</div>"
      ],
      "text/plain": [
       "                                                text  truncated  \\\n",
       "0  RT @Jscott916: @Geega1st @AynRandPaulRyan @th3...      False   \n",
       "1  RT @DrEricDing: Sweden 🇸🇪 strategy success??? ...      False   \n",
       "2  RT @N_ProudTegryan: @jaketapper Dear @jaketapp...      False   \n",
       "3  @JamesWard73 @bealelab @BristOliver Active sup...       True   \n",
       "4  RT @washingtonpost: Winter storms delay distri...      False   \n",
       "\n",
       "          location  quote_count  reply_count  retweet_count  favorite_count  \\\n",
       "0              NaN            0            0              1               1   \n",
       "1  Here and there.          261          156           1791            3925   \n",
       "2              NaN            0            0              1               1   \n",
       "3               UK            0            0              0               0   \n",
       "4      Chicago, IL            0           12             39              96   \n",
       "\n",
       "  language  \n",
       "0       en  \n",
       "1       en  \n",
       "2       en  \n",
       "3       en  \n",
       "4       en  "
      ]
     },
     "execution_count": 53,
     "metadata": {},
     "output_type": "execute_result"
    }
   ],
   "source": [
    "#load the data\n",
    "data = pd.read_csv('data.csv')\n",
    "\n",
    "data.head()"
   ]
  },
  {
   "cell_type": "code",
   "execution_count": 54,
   "metadata": {},
   "outputs": [],
   "source": [
    "#drop truncated since it will not benefit us in the analysis \n",
    "\n",
    "data.drop('truncated', axis=1, inplace=True) \n",
    "\n",
    "#renaming column text \n",
    "data.rename(columns= {'text': 'full_tweets'}, inplace = True)\n",
    "#change data type into string\n",
    "data['full_tweets']= data['full_tweets'].astype('str') "
   ]
  },
  {
   "cell_type": "code",
   "execution_count": 57,
   "metadata": {},
   "outputs": [],
   "source": [
    "#check for missing values and fill them \n",
    "data['location'].isna()\n",
    "data['location'].fillna('unknown', inplace = True)"
   ]
  },
  {
   "cell_type": "code",
   "execution_count": 60,
   "metadata": {},
   "outputs": [
    {
     "data": {
      "text/html": [
       "<div>\n",
       "<style scoped>\n",
       "    .dataframe tbody tr th:only-of-type {\n",
       "        vertical-align: middle;\n",
       "    }\n",
       "\n",
       "    .dataframe tbody tr th {\n",
       "        vertical-align: top;\n",
       "    }\n",
       "\n",
       "    .dataframe thead th {\n",
       "        text-align: right;\n",
       "    }\n",
       "</style>\n",
       "<table border=\"1\" class=\"dataframe\">\n",
       "  <thead>\n",
       "    <tr style=\"text-align: right;\">\n",
       "      <th></th>\n",
       "      <th>quote_count</th>\n",
       "      <th>reply_count</th>\n",
       "      <th>retweet_count</th>\n",
       "      <th>favorite_count</th>\n",
       "    </tr>\n",
       "  </thead>\n",
       "  <tbody>\n",
       "    <tr>\n",
       "      <th>count</th>\n",
       "      <td>35654.000000</td>\n",
       "      <td>35654.000000</td>\n",
       "      <td>35654.000000</td>\n",
       "      <td>35654.000000</td>\n",
       "    </tr>\n",
       "    <tr>\n",
       "      <th>mean</th>\n",
       "      <td>38.153419</td>\n",
       "      <td>56.200567</td>\n",
       "      <td>372.955657</td>\n",
       "      <td>1677.078533</td>\n",
       "    </tr>\n",
       "    <tr>\n",
       "      <th>std</th>\n",
       "      <td>284.155500</td>\n",
       "      <td>581.783106</td>\n",
       "      <td>1621.696085</td>\n",
       "      <td>10326.585455</td>\n",
       "    </tr>\n",
       "    <tr>\n",
       "      <th>min</th>\n",
       "      <td>0.000000</td>\n",
       "      <td>0.000000</td>\n",
       "      <td>0.000000</td>\n",
       "      <td>0.000000</td>\n",
       "    </tr>\n",
       "    <tr>\n",
       "      <th>25%</th>\n",
       "      <td>0.000000</td>\n",
       "      <td>0.000000</td>\n",
       "      <td>0.000000</td>\n",
       "      <td>0.000000</td>\n",
       "    </tr>\n",
       "    <tr>\n",
       "      <th>50%</th>\n",
       "      <td>0.000000</td>\n",
       "      <td>1.000000</td>\n",
       "      <td>6.000000</td>\n",
       "      <td>10.000000</td>\n",
       "    </tr>\n",
       "    <tr>\n",
       "      <th>75%</th>\n",
       "      <td>5.000000</td>\n",
       "      <td>15.000000</td>\n",
       "      <td>92.000000</td>\n",
       "      <td>236.750000</td>\n",
       "    </tr>\n",
       "    <tr>\n",
       "      <th>max</th>\n",
       "      <td>20679.000000</td>\n",
       "      <td>34074.000000</td>\n",
       "      <td>98349.000000</td>\n",
       "      <td>431385.000000</td>\n",
       "    </tr>\n",
       "  </tbody>\n",
       "</table>\n",
       "</div>"
      ],
      "text/plain": [
       "        quote_count   reply_count  retweet_count  favorite_count\n",
       "count  35654.000000  35654.000000   35654.000000    35654.000000\n",
       "mean      38.153419     56.200567     372.955657     1677.078533\n",
       "std      284.155500    581.783106    1621.696085    10326.585455\n",
       "min        0.000000      0.000000       0.000000        0.000000\n",
       "25%        0.000000      0.000000       0.000000        0.000000\n",
       "50%        0.000000      1.000000       6.000000       10.000000\n",
       "75%        5.000000     15.000000      92.000000      236.750000\n",
       "max    20679.000000  34074.000000   98349.000000   431385.000000"
      ]
     },
     "execution_count": 60,
     "metadata": {},
     "output_type": "execute_result"
    }
   ],
   "source": [
    "#check for Q1,Q2, and Q3\n",
    "data.describe()"
   ]
  },
  {
   "cell_type": "code",
   "execution_count": 62,
   "metadata": {},
   "outputs": [],
   "source": [
    "#find and drop outliers\n",
    "quote_low = 0-(1.5*5)\n",
    "reply_low = 0-(1.5*15)\n",
    "retweet_low = 0-(1.5*92)\n",
    "favorite_low = 0-(1.5*236.75)\n",
    "quote_high = 5+(1.5*5)\n",
    "reply_high = 15+(1.5*15)\n",
    "retweet_high = 92+(1.5*92)\n",
    "favorite_high = 236.75+(1.5*236.75)\n",
    "#get rows that contain outliers\n",
    "outliers = data.loc[(data['quote_count']< quote_low) | (data['quote_count']> quote_high) | \n",
    "                    (data['reply_count']< reply_low) | (data['reply_count']> reply_high)| \n",
    "                    (data['retweet_count']< retweet_low) | (data['retweet_count']> retweet_high) | \n",
    "                    (data['favorite_count']< favorite_low) | (data['favorite_count']> favorite_high)] \n",
    "\n",
    "data.drop(outliers.index, inplace=True)"
   ]
  },
  {
   "cell_type": "code",
   "execution_count": 64,
   "metadata": {},
   "outputs": [],
   "source": [
    "#Cleaning text\n",
    "\n",
    "#drop https\n",
    "re_map = {r'https?:\\/\\/.*[\\r\\n]*': ' '} \n",
    "for r, map in re_map.items():\n",
    "    data['full_tweets']= [re.sub(r, map, e) for e in data['full_tweets']]\n",
    "    \n",
    "#drop RT and @username\n",
    "re_map1 = {'[RT@]\\w+': ' '} \n",
    "for r, map in re_map1.items():\n",
    "    data['full_tweets']= [re.sub(r, map, e) for e in data['full_tweets']]\n",
    "    \n",
    "#drop everything except English and Arabic tweets\n",
    "re_map2 = {'[^a-zA-Z0-9\\s\\u0600-\\u06FF\\\\s]+': ' '} \n",
    "for r, map in re_map2.items():\n",
    "    data['full_tweets']= [re.sub(r, map, e) for e in data['full_tweets']]\n",
    "\n",
    "#drop the rest of the symbols\n",
    "re_map3 = {'[\\n\\t#%&$:]': ' '}\n",
    "for r, map in re_map3.items():\n",
    "    data['full_tweets']= [re.sub(r, map, e) for e in data['full_tweets']]\n",
    "\n",
    "#lowering all  \n",
    "data['full_tweets'] = [n.lower() for n in data['full_tweets']]\n",
    "\n",
    "#stip from all spaces\n",
    "data['full_tweets'] = data['full_tweets'].str.strip()"
   ]
  },
  {
   "cell_type": "markdown",
   "metadata": {},
   "source": [
    "We will choose a sample of 5000 for each language (Arabic and English) but since the Arabic tweets are less than 5000,\n",
    "we will fetch all, while will get 5000 rows for English without duplicates. Both data will be labeled, further cleaned, then stored into MYSQL and Cassandra"
   ]
  },
  {
   "cell_type": "code",
   "execution_count": 69,
   "metadata": {},
   "outputs": [],
   "source": [
    "#sample english and arabic data into seperate datasets for further cleaning, storing, and analysis\n",
    "data_ar = data[data['language'] == 'ar']\n",
    "data_en = data[data['language'] == 'en'].sample(5000)"
   ]
  },
  {
   "cell_type": "code",
   "execution_count": 73,
   "metadata": {},
   "outputs": [],
   "source": [
    "#convert them into CSV files for labeling\n",
    "data_ar.to_csv('data_ar.csv', index=None)\n",
    "data_en.to_csv('data_en.csv', index=None)"
   ]
  },
  {
   "cell_type": "markdown",
   "metadata": {},
   "source": [
    "Please note that the sample for English Tweets will change each time. Therefore, we will not be generating the samples again and we will be loading the data again to gurantee that it is the same data we labeled"
   ]
  },
  {
   "cell_type": "markdown",
   "metadata": {},
   "source": [
    "## Further cleaning and storing datasets"
   ]
  },
  {
   "cell_type": "code",
   "execution_count": 1,
   "metadata": {},
   "outputs": [],
   "source": [
    "# import libraries \n",
    "import mysql.connector\n",
    "from mysql.connector import Error\n",
    "import pandas as pd\n",
    "import re\n",
    "import replace #local module"
   ]
  },
  {
   "cell_type": "markdown",
   "metadata": {},
   "source": [
    "### Establish MySQL Connection"
   ]
  },
  {
   "cell_type": "code",
   "execution_count": 3,
   "metadata": {},
   "outputs": [
    {
     "name": "stdout",
     "output_type": "stream",
     "text": [
      "MySQL Database connection successful\n"
     ]
    }
   ],
   "source": [
    "#establish the connection with MYSQL\n",
    "def create_server_connection(host_name, user_name, user_password):\n",
    "    connection = None\n",
    "    try:\n",
    "        connection = mysql.connector.connect(host=host_name, user=user_name,passwd=user_password)\n",
    "        print(\"MySQL Database connection successful\")\n",
    "    except Error as err:\n",
    "        print(f\"Error: '{err}'\")\n",
    "    return connection\n",
    "\n",
    "connection = create_server_connection(\"localhost\", \"root\", password)"
   ]
  },
  {
   "cell_type": "code",
   "execution_count": 3,
   "metadata": {},
   "outputs": [],
   "source": [
    "#create a function to create the database then store the data into it\n",
    "def create_database(connection, query):\n",
    "    cursor = connection.cursor()\n",
    "    try:\n",
    "        cursor.execute(query)\n",
    "        print(\"Database created successfully\")\n",
    "    except Error as err:\n",
    "        print(f\"Error: '{err}'\")"
   ]
  },
  {
   "cell_type": "code",
   "execution_count": 6,
   "metadata": {},
   "outputs": [
    {
     "name": "stdout",
     "output_type": "stream",
     "text": [
      "Error: '1007 (HY000): Can't create database 'tweets'; database exists'\n"
     ]
    }
   ],
   "source": [
    "database = \"CREATE DATABASE tweets\"\n",
    "create_database(connection, database)"
   ]
  },
  {
   "cell_type": "code",
   "execution_count": 4,
   "metadata": {},
   "outputs": [
    {
     "name": "stdout",
     "output_type": "stream",
     "text": [
      "MySQL Database connection successful\n"
     ]
    }
   ],
   "source": [
    "def create_db_connection(host_name, user_name, user_password, db_name):\n",
    "    connection = None\n",
    "    try:\n",
    "        connection = mysql.connector.connect(host=host_name,user=user_name,passwd=user_password,database=db_name)\n",
    "        print(\"MySQL Database connection successful\")\n",
    "    except Error as err:\n",
    "        print(f\"Error: '{err}'\")\n",
    "    return connection\n",
    "\n",
    "database_connection = create_db_connection(\"localhost\", \"root\", password,\"tweets\")"
   ]
  },
  {
   "cell_type": "code",
   "execution_count": 5,
   "metadata": {},
   "outputs": [],
   "source": [
    "def execute_query(connection, query):\n",
    "    cursor = connection.cursor()\n",
    "    try:\n",
    "        cursor.execute(query)\n",
    "        connection.commit()\n",
    "        print(\"Query successful\")\n",
    "    except Error as err:\n",
    "        print(f\"Error: '{err}'\")"
   ]
  },
  {
   "cell_type": "code",
   "execution_count": 6,
   "metadata": {},
   "outputs": [],
   "source": [
    "def read_query(connection, query):\n",
    "    cursor = connection.cursor()\n",
    "    result = None\n",
    "    try:\n",
    "        cursor.execute(query)\n",
    "        result = cursor.fetchall()\n",
    "        return result\n",
    "    except Error as err:\n",
    "        print(f\"Error: '{err}'\")"
   ]
  },
  {
   "cell_type": "markdown",
   "metadata": {},
   "source": [
    "### Establish Cassandra Connection"
   ]
  },
  {
   "cell_type": "code",
   "execution_count": 8,
   "metadata": {},
   "outputs": [
    {
     "name": "stdout",
     "output_type": "stream",
     "text": [
      "Collecting cassandra-driver\n",
      "  Downloading cassandra_driver-3.25.0-cp38-cp38-win_amd64.whl (2.9 MB)\n",
      "Requirement already satisfied: six>=1.9 in c:\\users\\user\\anaconda3\\lib\\site-packages (from cassandra-driver) (1.15.0)\n",
      "Collecting geomet<0.3,>=0.1\n",
      "  Downloading geomet-0.2.1.post1-py3-none-any.whl (18 kB)\n",
      "Requirement already satisfied: click in c:\\users\\user\\anaconda3\\lib\\site-packages (from geomet<0.3,>=0.1->cassandra-driver) (7.1.2)\n",
      "Installing collected packages: geomet, cassandra-driver\n",
      "Successfully installed cassandra-driver-3.25.0 geomet-0.2.1.post1\n"
     ]
    }
   ],
   "source": [
    "!pip install cassandra-driver"
   ]
  },
  {
   "cell_type": "code",
   "execution_count": 8,
   "metadata": {},
   "outputs": [],
   "source": [
    "#establishing a connection to local host\n",
    "from cassandra.cluster import Cluster\n",
    "clstr=Cluster(port = 9042,protocol_version = 4)"
   ]
  },
  {
   "cell_type": "code",
   "execution_count": 9,
   "metadata": {},
   "outputs": [],
   "source": [
    "session=clstr.connect()"
   ]
  },
  {
   "cell_type": "code",
   "execution_count": 10,
   "metadata": {},
   "outputs": [
    {
     "data": {
      "text/plain": [
       "<cassandra.cluster.ResultSet at 0x1a7c8388c70>"
      ]
     },
     "execution_count": 10,
     "metadata": {},
     "output_type": "execute_result"
    }
   ],
   "source": [
    "#create the keyspace tweets\n",
    "session.execute(\"\"\"CREATE KEYSPACE tweets WITH REPLICATION = {'class' : 'SimpleStrategy', 'replication_factor' :'3' };\"\"\")\n",
    "session.execute(\"\"\"USE tweets;\"\"\")"
   ]
  },
  {
   "cell_type": "markdown",
   "metadata": {},
   "source": [
    "### Load, clean, and store data into MYSQL"
   ]
  },
  {
   "cell_type": "code",
   "execution_count": 7,
   "metadata": {},
   "outputs": [],
   "source": [
    "#load the the sampled data and the same data after labeling\n",
    "\n",
    "data_ar = pd.read_csv('data_ar.csv') #the arabic dataset\n",
    "data_en = pd.read_csv('data_en.csv') #the english dataset\n",
    "data_ar_l = pd.read_csv('data_ar_l.csv') #labeled arabic dataset\n",
    "data_en_l = pd.read_csv('data_en_l.csv')  #labeled english dataset"
   ]
  },
  {
   "cell_type": "markdown",
   "metadata": {},
   "source": [
    "We will be further cleaning the datasets, we will clean the location column from emojis and characters, we will drop empty values, and we will create an index for the database to be the primary key for our tweets "
   ]
  },
  {
   "cell_type": "markdown",
   "metadata": {},
   "source": [
    "#### Unlabeled Arabic Data (data_ar)"
   ]
  },
  {
   "cell_type": "code",
   "execution_count": 11,
   "metadata": {},
   "outputs": [
    {
     "data": {
      "text/plain": [
       "(4819, 7)"
      ]
     },
     "execution_count": 11,
     "metadata": {},
     "output_type": "execute_result"
    }
   ],
   "source": [
    "data_ar.shape"
   ]
  },
  {
   "cell_type": "code",
   "execution_count": 12,
   "metadata": {},
   "outputs": [],
   "source": [
    "data_ar['location']=data_ar['location'].astype('str')"
   ]
  },
  {
   "cell_type": "code",
   "execution_count": 13,
   "metadata": {},
   "outputs": [],
   "source": [
    "#Clean the location column\n",
    "rmap = {'[^a-zA-Z0-9\\s\\u0600-\\u06FF\\\\s]+': ' '} \n",
    "for r, map in rmap.items():\n",
    "    data_ar['location']= [re.sub(r, map, e) for e in data_ar['location']]"
   ]
  },
  {
   "cell_type": "code",
   "execution_count": 14,
   "metadata": {},
   "outputs": [],
   "source": [
    "#drop the language column \n",
    "data_ar.drop('language', axis=1, inplace=True) "
   ]
  },
  {
   "cell_type": "code",
   "execution_count": 15,
   "metadata": {},
   "outputs": [],
   "source": [
    "#set index to the dataset\n",
    "data_ar['id']= data_ar.index"
   ]
  },
  {
   "cell_type": "code",
   "execution_count": 16,
   "metadata": {},
   "outputs": [
    {
     "data": {
      "text/plain": [
       "3"
      ]
     },
     "execution_count": 16,
     "metadata": {},
     "output_type": "execute_result"
    }
   ],
   "source": [
    "#count the number of missing tweets\n",
    "data_ar['full_tweets'].isna().sum()"
   ]
  },
  {
   "cell_type": "code",
   "execution_count": 17,
   "metadata": {},
   "outputs": [],
   "source": [
    "#drop rows where there is no a tweet\n",
    "data_ar.dropna(inplace=True)"
   ]
  },
  {
   "cell_type": "markdown",
   "metadata": {},
   "source": [
    "We need to convert the columns into objects to be inserted into MYSQL database"
   ]
  },
  {
   "cell_type": "code",
   "execution_count": 18,
   "metadata": {},
   "outputs": [],
   "source": [
    "data_ar['quote_count'] = data_ar['quote_count'].astype('str')\n",
    "data_ar['reply_count'] = data_ar['reply_count'].astype('str')\n",
    "data_ar['retweet_count'] = data_ar['retweet_count'].astype('str')\n",
    "data_ar['favorite_count'] = data_ar['favorite_count'].astype('str')\n",
    "data_ar['id'] = data_ar['id'].astype('str')"
   ]
  },
  {
   "cell_type": "code",
   "execution_count": 19,
   "metadata": {},
   "outputs": [
    {
     "name": "stdout",
     "output_type": "stream",
     "text": [
      "Error: '1050 (42S01): Table 'arabic' already exists'\n"
     ]
    }
   ],
   "source": [
    "#create the schema for the arabic unlabled tweets\n",
    "create_data_ar_table = \"\"\" CREATE TABLE Arabic (full_tweets VARCHAR(450) NULL, location VARCHAR(100) NULL,\n",
    "                      quote_count INT NULL, reply_count INT NULL, retweet_count INT NULL, favorite_count INT NULL,\n",
    "                      id INT NOT NULL, PRIMARY KEY(id)); \"\"\"\n",
    "\n",
    "#execute the schema\n",
    "execute_query(database_connection, create_data_ar_table)"
   ]
  },
  {
   "cell_type": "code",
   "execution_count": 152,
   "metadata": {},
   "outputs": [
    {
     "name": "stdout",
     "output_type": "stream",
     "text": [
      "Rows were inserted.\n"
     ]
    }
   ],
   "source": [
    "# loop over the dataframe and store the data into MySQL\n",
    "try:\n",
    "    mycursor = database_connection.cursor()\n",
    "    for i in range(data_ar.shape[0]):\n",
    "        val = []\n",
    "        sql = \"\"\"INSERT INTO Arabic (full_tweets, location, quote_count, reply_count, retweet_count, favorite_count, id)\n",
    "                                 VALUES (%s,%s,%s,%s,%s,%s,%s)\"\"\"\n",
    "        for j in range(data_ar.shape[1]): #iterating through the columns\n",
    "            val.append((data_ar.iloc[i,j])) #append it to the list\n",
    "        mycursor.execute(sql, val) \n",
    "        database_connection.commit()\n",
    "    print(\"Rows were inserted.\")\n",
    "\n",
    "except mysql.connector.Error as error:\n",
    "    print(\"Failed to insert rows in MySQL: {}\".format(error))\n"
   ]
  },
  {
   "cell_type": "code",
   "execution_count": 20,
   "metadata": {},
   "outputs": [
    {
     "data": {
      "text/plain": [
       "<cassandra.cluster.ResultSet at 0x1a7c833a940>"
      ]
     },
     "execution_count": 20,
     "metadata": {},
     "output_type": "execute_result"
    }
   ],
   "source": [
    "#create a table in cassandra\n",
    "session.execute(\"\"\"CREATE TABLE arabic (full_tweets VARCHAR, location VARCHAR,\n",
    "                      quote_count VARCHAR, reply_count VARCHAR, retweet_count VARCHAR, favorite_count VARCHAR,\n",
    "                      id VARCHAR PRIMARY KEY);\"\"\")"
   ]
  },
  {
   "cell_type": "code",
   "execution_count": 24,
   "metadata": {},
   "outputs": [
    {
     "name": "stdout",
     "output_type": "stream",
     "text": [
      "Rows were inserted.\n"
     ]
    }
   ],
   "source": [
    "#insert data into the table created in Cassandra\n",
    "try:\n",
    "    for i in range(data_ar.shape[0]):\n",
    "        val = []\n",
    "        sql = \"\"\"INSERT INTO  arabic (full_tweets, location, quote_count, reply_count, retweet_count,\n",
    "                              favorite_count, id) VALUES (%s,%s,%s,%s,%s,%s,%s)\"\"\"\n",
    "        for j in range(data_ar.shape[1]): #iterating through the columns\n",
    "            val.append((data_ar.iloc[i,j])) #append it to the list\n",
    "        session.execute(sql, val) \n",
    "    print(\"Rows were inserted.\")\n",
    "\n",
    "except mysql.connector.Error as error:\n",
    "    print(\"Failed to insert rows into Cassandra: {}\".format(error))  "
   ]
  },
  {
   "cell_type": "markdown",
   "metadata": {},
   "source": [
    "#### Unlabeled English Data (data_en)"
   ]
  },
  {
   "cell_type": "code",
   "execution_count": 20,
   "metadata": {},
   "outputs": [
    {
     "data": {
      "text/plain": [
       "(5000, 7)"
      ]
     },
     "execution_count": 20,
     "metadata": {},
     "output_type": "execute_result"
    }
   ],
   "source": [
    "data_en.shape"
   ]
  },
  {
   "cell_type": "code",
   "execution_count": 21,
   "metadata": {},
   "outputs": [
    {
     "data": {
      "text/html": [
       "<div>\n",
       "<style scoped>\n",
       "    .dataframe tbody tr th:only-of-type {\n",
       "        vertical-align: middle;\n",
       "    }\n",
       "\n",
       "    .dataframe tbody tr th {\n",
       "        vertical-align: top;\n",
       "    }\n",
       "\n",
       "    .dataframe thead th {\n",
       "        text-align: right;\n",
       "    }\n",
       "</style>\n",
       "<table border=\"1\" class=\"dataframe\">\n",
       "  <thead>\n",
       "    <tr style=\"text-align: right;\">\n",
       "      <th></th>\n",
       "      <th>full_tweets</th>\n",
       "      <th>location</th>\n",
       "      <th>quote_count</th>\n",
       "      <th>reply_count</th>\n",
       "      <th>retweet_count</th>\n",
       "      <th>favorite_count</th>\n",
       "      <th>language</th>\n",
       "    </tr>\n",
       "  </thead>\n",
       "  <tbody>\n",
       "    <tr>\n",
       "      <th>0</th>\n",
       "      <td>lol at the pro israel people losing their mind...</td>\n",
       "      <td>unknown</td>\n",
       "      <td>3</td>\n",
       "      <td>10</td>\n",
       "      <td>47</td>\n",
       "      <td>212</td>\n",
       "      <td>en</td>\n",
       "    </tr>\n",
       "    <tr>\n",
       "      <th>1</th>\n",
       "      <td>27k dip in active covid19 cases after 5 days o...</td>\n",
       "      <td>unknown</td>\n",
       "      <td>0</td>\n",
       "      <td>5</td>\n",
       "      <td>7</td>\n",
       "      <td>69</td>\n",
       "      <td>en</td>\n",
       "    </tr>\n",
       "    <tr>\n",
       "      <th>2</th>\n",
       "      <td>emba canada closed god from our life church se...</td>\n",
       "      <td>Toronto, Canada  and Worldwide</td>\n",
       "      <td>0</td>\n",
       "      <td>0</td>\n",
       "      <td>0</td>\n",
       "      <td>0</td>\n",
       "      <td>en</td>\n",
       "    </tr>\n",
       "    <tr>\n",
       "      <th>3</th>\n",
       "      <td>nyc is down to fewer than 1000 vaccine doses a...</td>\n",
       "      <td>unknown</td>\n",
       "      <td>0</td>\n",
       "      <td>3</td>\n",
       "      <td>5</td>\n",
       "      <td>11</td>\n",
       "      <td>en</td>\n",
       "    </tr>\n",
       "    <tr>\n",
       "      <th>4</th>\n",
       "      <td>kentucky lets hope cvs opens up for vaccines s...</td>\n",
       "      <td>unknown</td>\n",
       "      <td>0</td>\n",
       "      <td>0</td>\n",
       "      <td>0</td>\n",
       "      <td>0</td>\n",
       "      <td>en</td>\n",
       "    </tr>\n",
       "  </tbody>\n",
       "</table>\n",
       "</div>"
      ],
      "text/plain": [
       "                                         full_tweets  \\\n",
       "0  lol at the pro israel people losing their mind...   \n",
       "1  27k dip in active covid19 cases after 5 days o...   \n",
       "2  emba canada closed god from our life church se...   \n",
       "3  nyc is down to fewer than 1000 vaccine doses a...   \n",
       "4  kentucky lets hope cvs opens up for vaccines s...   \n",
       "\n",
       "                         location  quote_count  reply_count  retweet_count  \\\n",
       "0                         unknown            3           10             47   \n",
       "1                         unknown            0            5              7   \n",
       "2  Toronto, Canada  and Worldwide            0            0              0   \n",
       "3                         unknown            0            3              5   \n",
       "4                         unknown            0            0              0   \n",
       "\n",
       "   favorite_count language  \n",
       "0             212       en  \n",
       "1              69       en  \n",
       "2               0       en  \n",
       "3              11       en  \n",
       "4               0       en  "
      ]
     },
     "execution_count": 21,
     "metadata": {},
     "output_type": "execute_result"
    }
   ],
   "source": [
    "data_en.head()"
   ]
  },
  {
   "cell_type": "code",
   "execution_count": 22,
   "metadata": {},
   "outputs": [],
   "source": [
    "#Clean the location column\n",
    "rmap1 = {'[^a-zA-Z0-9]+': ' '} \n",
    "for r, map in rmap1.items():\n",
    "    data_en['location']= [re.sub(r, map, e) for e in data_en['location']]"
   ]
  },
  {
   "cell_type": "code",
   "execution_count": 23,
   "metadata": {},
   "outputs": [],
   "source": [
    "#drop the language column \n",
    "data_en.drop('language', axis=1, inplace=True) "
   ]
  },
  {
   "cell_type": "code",
   "execution_count": 24,
   "metadata": {},
   "outputs": [],
   "source": [
    "#set index to the dataset\n",
    "data_en['id']= data_en.index"
   ]
  },
  {
   "cell_type": "code",
   "execution_count": 25,
   "metadata": {},
   "outputs": [
    {
     "data": {
      "text/plain": [
       "21"
      ]
     },
     "execution_count": 25,
     "metadata": {},
     "output_type": "execute_result"
    }
   ],
   "source": [
    "#count the number of missing tweets\n",
    "data_en['full_tweets'].isna().sum()"
   ]
  },
  {
   "cell_type": "code",
   "execution_count": 26,
   "metadata": {},
   "outputs": [],
   "source": [
    "#drop rows where there is no a tweet\n",
    "data_en.dropna(inplace=True)"
   ]
  },
  {
   "cell_type": "markdown",
   "metadata": {},
   "source": [
    "We need to convert the columns into objects to be inserted into MYSQL database"
   ]
  },
  {
   "cell_type": "code",
   "execution_count": 27,
   "metadata": {},
   "outputs": [
    {
     "data": {
      "text/html": [
       "<div>\n",
       "<style scoped>\n",
       "    .dataframe tbody tr th:only-of-type {\n",
       "        vertical-align: middle;\n",
       "    }\n",
       "\n",
       "    .dataframe tbody tr th {\n",
       "        vertical-align: top;\n",
       "    }\n",
       "\n",
       "    .dataframe thead th {\n",
       "        text-align: right;\n",
       "    }\n",
       "</style>\n",
       "<table border=\"1\" class=\"dataframe\">\n",
       "  <thead>\n",
       "    <tr style=\"text-align: right;\">\n",
       "      <th></th>\n",
       "      <th>full_tweets</th>\n",
       "      <th>location</th>\n",
       "      <th>quote_count</th>\n",
       "      <th>reply_count</th>\n",
       "      <th>retweet_count</th>\n",
       "      <th>favorite_count</th>\n",
       "      <th>id</th>\n",
       "    </tr>\n",
       "  </thead>\n",
       "  <tbody>\n",
       "    <tr>\n",
       "      <th>0</th>\n",
       "      <td>lol at the pro israel people losing their mind...</td>\n",
       "      <td>unknown</td>\n",
       "      <td>3</td>\n",
       "      <td>10</td>\n",
       "      <td>47</td>\n",
       "      <td>212</td>\n",
       "      <td>0</td>\n",
       "    </tr>\n",
       "    <tr>\n",
       "      <th>1</th>\n",
       "      <td>27k dip in active covid19 cases after 5 days o...</td>\n",
       "      <td>unknown</td>\n",
       "      <td>0</td>\n",
       "      <td>5</td>\n",
       "      <td>7</td>\n",
       "      <td>69</td>\n",
       "      <td>1</td>\n",
       "    </tr>\n",
       "    <tr>\n",
       "      <th>2</th>\n",
       "      <td>emba canada closed god from our life church se...</td>\n",
       "      <td>Toronto Canada and Worldwide</td>\n",
       "      <td>0</td>\n",
       "      <td>0</td>\n",
       "      <td>0</td>\n",
       "      <td>0</td>\n",
       "      <td>2</td>\n",
       "    </tr>\n",
       "    <tr>\n",
       "      <th>3</th>\n",
       "      <td>nyc is down to fewer than 1000 vaccine doses a...</td>\n",
       "      <td>unknown</td>\n",
       "      <td>0</td>\n",
       "      <td>3</td>\n",
       "      <td>5</td>\n",
       "      <td>11</td>\n",
       "      <td>3</td>\n",
       "    </tr>\n",
       "    <tr>\n",
       "      <th>4</th>\n",
       "      <td>kentucky lets hope cvs opens up for vaccines s...</td>\n",
       "      <td>unknown</td>\n",
       "      <td>0</td>\n",
       "      <td>0</td>\n",
       "      <td>0</td>\n",
       "      <td>0</td>\n",
       "      <td>4</td>\n",
       "    </tr>\n",
       "  </tbody>\n",
       "</table>\n",
       "</div>"
      ],
      "text/plain": [
       "                                         full_tweets  \\\n",
       "0  lol at the pro israel people losing their mind...   \n",
       "1  27k dip in active covid19 cases after 5 days o...   \n",
       "2  emba canada closed god from our life church se...   \n",
       "3  nyc is down to fewer than 1000 vaccine doses a...   \n",
       "4  kentucky lets hope cvs opens up for vaccines s...   \n",
       "\n",
       "                       location  quote_count  reply_count  retweet_count  \\\n",
       "0                       unknown            3           10             47   \n",
       "1                       unknown            0            5              7   \n",
       "2  Toronto Canada and Worldwide            0            0              0   \n",
       "3                       unknown            0            3              5   \n",
       "4                       unknown            0            0              0   \n",
       "\n",
       "   favorite_count  id  \n",
       "0             212   0  \n",
       "1              69   1  \n",
       "2               0   2  \n",
       "3              11   3  \n",
       "4               0   4  "
      ]
     },
     "execution_count": 27,
     "metadata": {},
     "output_type": "execute_result"
    }
   ],
   "source": [
    "data_en.head()"
   ]
  },
  {
   "cell_type": "code",
   "execution_count": 28,
   "metadata": {},
   "outputs": [],
   "source": [
    "data_en['quote_count'] = data_en['quote_count'].astype('str')\n",
    "data_en['reply_count'] = data_en['reply_count'].astype('str')\n",
    "data_en['retweet_count'] = data_en['retweet_count'].astype('str')\n",
    "data_en['favorite_count'] = data_en['favorite_count'].astype('str')\n",
    "data_en['id'] = data_en['id'].astype('str')"
   ]
  },
  {
   "cell_type": "code",
   "execution_count": 29,
   "metadata": {},
   "outputs": [
    {
     "name": "stdout",
     "output_type": "stream",
     "text": [
      "Error: '1050 (42S01): Table 'english' already exists'\n"
     ]
    }
   ],
   "source": [
    "#create the schema for the english unlabled tweets\n",
    "create_data_en_table =  \"\"\" CREATE TABLE English (full_tweets VARCHAR(450) NULL, location VARCHAR(100) NULL,\n",
    "                      quote_count INT NULL, reply_count INT NULL, retweet_count INT NULL, favorite_count INT NULL,\n",
    "                      id INT NOT NULL, PRIMARY KEY(id)); \"\"\"\n",
    "\n",
    "#execute the schema\n",
    "execute_query(database_connection, create_data_en_table)"
   ]
  },
  {
   "cell_type": "code",
   "execution_count": 161,
   "metadata": {},
   "outputs": [
    {
     "name": "stdout",
     "output_type": "stream",
     "text": [
      "Rows were inserted.\n"
     ]
    }
   ],
   "source": [
    "# loop over the dataframe and store the data into MySQL\n",
    "try:\n",
    "    mycursor = database_connection.cursor()\n",
    "    for i in range(data_en.shape[0]):\n",
    "        val1 = []\n",
    "        sql1 = \"\"\"INSERT INTO English (full_tweets, location, quote_count, reply_count, retweet_count, favorite_count, id)\n",
    "                                 VALUES (%s,%s,%s,%s,%s,%s,%s)\"\"\"\n",
    "        for j in range(data_en.shape[1]): #iterating through the columns\n",
    "            val1.append((data_en.iloc[i,j])) #append it to the list\n",
    "        mycursor.execute(sql1, val1) \n",
    "        database_connection.commit()\n",
    "    print(\"Rows were inserted.\")\n",
    "\n",
    "except mysql.connector.Error as error:\n",
    "    print(\"Failed to insert rows in MySQL: {}\".format(error))"
   ]
  },
  {
   "cell_type": "code",
   "execution_count": 34,
   "metadata": {},
   "outputs": [
    {
     "data": {
      "text/plain": [
       "<cassandra.cluster.ResultSet at 0x1a7c89b29d0>"
      ]
     },
     "execution_count": 34,
     "metadata": {},
     "output_type": "execute_result"
    }
   ],
   "source": [
    "#create a table in cassandra\n",
    "session.execute(\"\"\"CREATE TABLE english (full_tweets VARCHAR, location VARCHAR,\n",
    "                      quote_count VARCHAR, reply_count VARCHAR, retweet_count VARCHAR, favorite_count VARCHAR,\n",
    "                      id VARCHAR PRIMARY KEY);\"\"\")"
   ]
  },
  {
   "cell_type": "code",
   "execution_count": 35,
   "metadata": {},
   "outputs": [
    {
     "name": "stdout",
     "output_type": "stream",
     "text": [
      "Rows were inserted.\n"
     ]
    }
   ],
   "source": [
    "#insert data into the table created in Cassandra\n",
    "try:\n",
    "    for i in range(data_en.shape[0]):\n",
    "        val = []\n",
    "        sql = \"\"\"INSERT INTO  english (full_tweets, location, quote_count, reply_count, retweet_count,\n",
    "                              favorite_count, id) VALUES (%s,%s,%s,%s,%s,%s,%s)\"\"\"\n",
    "        for j in range(data_en.shape[1]): #iterating through the columns\n",
    "            val.append((data_en.iloc[i,j])) #append it to the list\n",
    "        session.execute(sql, val) \n",
    "    print(\"Rows were inserted.\")\n",
    "\n",
    "except mysql.connector.Error as error:\n",
    "    print(\"Failed to insert rows into Cassandra: {}\".format(error))  "
   ]
  },
  {
   "cell_type": "markdown",
   "metadata": {},
   "source": [
    "We labeled the data into 4 labels:\n",
    "\n",
    "    1. tweets that contain information that are considered reporting about the vaccination process are labeled as 1 \n",
    "    (positive) as people who spread news and facts about vaccination are likely to get the vaccine\n",
    "    2. tweets that contain a clear statement that a person or someone they know took the vaccine are labeled as 2 (positive)\n",
    "    3. tweets that indicate a rejection to take the vaccine are labeled as 0 (negative)\n",
    "    4. tweets that talk about COVID 19 in general, unclear statements, or noise are labeled as -1 (as they are irrelevent) \n",
    "    \n",
    "We added a column to check if tweets were duplicates for the arabic dataset since we noticed that there are many duplicate tweets and we need to decide what to do with them.\n",
    "we will combine tweets that are labeled 1 & 2 to be one as they indicate a person who has a positive behavior towards tweets\n",
    "we will drop the tweets that are labeled as -1 as they are irrelevent"
   ]
  },
  {
   "cell_type": "markdown",
   "metadata": {},
   "source": [
    "#### Labeled Arabic data "
   ]
  },
  {
   "cell_type": "code",
   "execution_count": 30,
   "metadata": {},
   "outputs": [
    {
     "data": {
      "text/plain": [
       "(4819, 9)"
      ]
     },
     "execution_count": 30,
     "metadata": {},
     "output_type": "execute_result"
    }
   ],
   "source": [
    "data_ar_l.shape"
   ]
  },
  {
   "cell_type": "code",
   "execution_count": 31,
   "metadata": {},
   "outputs": [],
   "source": [
    "data_ar_l['location']=data_ar_l['location'].astype('str')"
   ]
  },
  {
   "cell_type": "code",
   "execution_count": 32,
   "metadata": {},
   "outputs": [],
   "source": [
    "#Clean the location column\n",
    "rmap2 = {'[^a-zA-Z0-9\\s\\u0600-\\u06FF\\\\s]+': ' '} \n",
    "for r, map in rmap2.items():\n",
    "    data_ar_l['location']= [re.sub(r, map, e) for e in data_ar_l['location']]"
   ]
  },
  {
   "cell_type": "code",
   "execution_count": 33,
   "metadata": {},
   "outputs": [],
   "source": [
    "#drop the language column \n",
    "data_ar_l.drop('language', axis=1, inplace=True) "
   ]
  },
  {
   "cell_type": "code",
   "execution_count": 34,
   "metadata": {},
   "outputs": [],
   "source": [
    "#set index to the dataset\n",
    "data_ar_l['id']= data_ar_l.index"
   ]
  },
  {
   "cell_type": "code",
   "execution_count": 35,
   "metadata": {},
   "outputs": [
    {
     "data": {
      "text/plain": [
       "3"
      ]
     },
     "execution_count": 35,
     "metadata": {},
     "output_type": "execute_result"
    }
   ],
   "source": [
    "#count the number of missing tweets\n",
    "data_ar_l['full_tweets'].isna().sum()"
   ]
  },
  {
   "cell_type": "code",
   "execution_count": 36,
   "metadata": {},
   "outputs": [],
   "source": [
    "#drop rows where there is no a tweet\n",
    "data_ar_l.dropna(inplace=True)"
   ]
  },
  {
   "cell_type": "code",
   "execution_count": 37,
   "metadata": {},
   "outputs": [],
   "source": [
    "#covert the labels column into integer\n",
    "data_ar_l['labels ']= pd.to_numeric(data_ar_l['labels '], downcast='integer')\n",
    "data_ar_l['labels '] = data_ar_l['labels '].astype('int')"
   ]
  },
  {
   "cell_type": "code",
   "execution_count": 38,
   "metadata": {},
   "outputs": [
    {
     "name": "stdout",
     "output_type": "stream",
     "text": [
      "Percentage of Arabic irrelevent tweets >> 75.62902890413807\n"
     ]
    }
   ],
   "source": [
    "#report the percentage of irrelevent tweets\n",
    "irrelevent_ar = data_ar_l[data_ar_l['labels '] == -1]\n",
    "print('Percentage of Arabic irrelevent tweets >>', (int(len(irrelevent_ar))/data_ar_l.shape[0])*100)"
   ]
  },
  {
   "cell_type": "code",
   "execution_count": 39,
   "metadata": {},
   "outputs": [],
   "source": [
    "#drop the unrelevent tweets\n",
    "data_ar_l.drop(irrelevent_ar.index, inplace=True)"
   ]
  },
  {
   "cell_type": "code",
   "execution_count": 40,
   "metadata": {},
   "outputs": [],
   "source": [
    "#replace the location column\n",
    "data_ar_l['location'] = replace.replace_arabic(data_ar_l['location']) "
   ]
  },
  {
   "cell_type": "code",
   "execution_count": 41,
   "metadata": {},
   "outputs": [
    {
     "name": "stdout",
     "output_type": "stream",
     "text": [
      "Percentage of Arabic irrelevent duplicate tweets >> 57.33788395904437\n"
     ]
    }
   ],
   "source": [
    "#report the percentage of irrelevent tweets\n",
    "irrelevent_duplicate = data_ar_l[data_ar_l['is_duplicate'] == True]\n",
    "print('Percentage of Arabic irrelevent duplicate tweets >>', (int(len(irrelevent_duplicate))/data_ar_l.shape[0])*100)"
   ]
  },
  {
   "cell_type": "markdown",
   "metadata": {},
   "source": [
    "Since more than half of the tweets are duplicates we will leave the duplicates since it will reduce the size of our dataset and we will drop the duplicate column, also, these duplicates probably stem from users retweeting the same tweet"
   ]
  },
  {
   "cell_type": "code",
   "execution_count": 42,
   "metadata": {},
   "outputs": [],
   "source": [
    "#drop the duplicate column\n",
    "data_ar_l.drop('is_duplicate', axis=1, inplace=True)"
   ]
  },
  {
   "cell_type": "code",
   "execution_count": 43,
   "metadata": {},
   "outputs": [],
   "source": [
    "# merge the 1 and 2 labels to be all labeled as 1\n",
    "data_ar_l['labels ']= data_ar_l['labels '].replace(2,1)"
   ]
  },
  {
   "cell_type": "markdown",
   "metadata": {},
   "source": [
    "We need to convert the columns into objects to be inserted into MYSQL database"
   ]
  },
  {
   "cell_type": "code",
   "execution_count": 44,
   "metadata": {},
   "outputs": [],
   "source": [
    "data_ar_l['labels '] = data_ar_l['labels '].astype('str')\n",
    "data_ar_l['quote_count'] = data_ar_l['quote_count'].astype('str')\n",
    "data_ar_l['reply_count'] = data_ar_l['reply_count'].astype('str')\n",
    "data_ar_l['retweet_count'] = data_ar_l['retweet_count'].astype('str')\n",
    "data_ar_l['favorite_count'] = data_ar_l['favorite_count'].astype('str')\n",
    "data_ar_l['id'] = data_ar_l['id'].astype('str')"
   ]
  },
  {
   "cell_type": "code",
   "execution_count": 177,
   "metadata": {},
   "outputs": [
    {
     "name": "stdout",
     "output_type": "stream",
     "text": [
      "Query successful\n"
     ]
    }
   ],
   "source": [
    "#create the schema for the arabic unlabled tweets\n",
    "create_data_ar_l_table = \"\"\" CREATE TABLE labeled_arabic (full_tweets VARCHAR(450) NULL,label VARCHAR(1) NULL, location VARCHAR(40) NULL,\n",
    "                      quote_count INT NULL, reply_count INT NULL, retweet_count INT NULL, favorite_count INT NULL,\n",
    "                      id INT NOT NULL, PRIMARY KEY(id)); \"\"\"\n",
    "\n",
    "#execute the schema\n",
    "execute_query(database_connection, create_data_ar_l_table)"
   ]
  },
  {
   "cell_type": "code",
   "execution_count": 178,
   "metadata": {},
   "outputs": [
    {
     "name": "stdout",
     "output_type": "stream",
     "text": [
      "Rows were inserted.\n"
     ]
    }
   ],
   "source": [
    "try:\n",
    "    mycursor = database_connection.cursor()\n",
    "    for i in range(data_ar_l.shape[0]):\n",
    "        val = []\n",
    "        sql = \"\"\"INSERT INTO Labeled_Arabic (full_tweets, label, location, quote_count, reply_count, retweet_count, favorite_count, id)\n",
    "                                 VALUES (%s,%s,%s,%s,%s,%s,%s,%s)\"\"\"\n",
    "        for j in range(data_ar_l.shape[1]): #iterating through the columns\n",
    "            val.append((data_ar_l.iloc[i,j])) #append it to the list\n",
    "        mycursor.execute(sql, val) \n",
    "        database_connection.commit()\n",
    "    print(\"Rows were inserted.\")\n",
    "\n",
    "except mysql.connector.Error as error:\n",
    "    print(\"Failed to insert rows in MySQL: {}\".format(error))"
   ]
  },
  {
   "cell_type": "code",
   "execution_count": 53,
   "metadata": {},
   "outputs": [
    {
     "data": {
      "text/plain": [
       "<cassandra.cluster.ResultSet at 0x1a7c5bb5520>"
      ]
     },
     "execution_count": 53,
     "metadata": {},
     "output_type": "execute_result"
    }
   ],
   "source": [
    "#create a table in cassandra\n",
    "session.execute(\"\"\"CREATE TABLE labeled_arabic (full_tweets VARCHAR,label VARCHAR, location VARCHAR,\n",
    "                      quote_count VARCHAR, reply_count VARCHAR, retweet_count VARCHAR, favorite_count VARCHAR,\n",
    "                      id VARCHAR PRIMARY KEY);\"\"\")"
   ]
  },
  {
   "cell_type": "code",
   "execution_count": 54,
   "metadata": {},
   "outputs": [
    {
     "name": "stdout",
     "output_type": "stream",
     "text": [
      "Rows were inserted.\n"
     ]
    }
   ],
   "source": [
    "#insert data into the table created in Cassandra\n",
    "try:\n",
    "    for i in range(data_ar_l.shape[0]):\n",
    "        val = []\n",
    "        sql = \"\"\"INSERT INTO  labeled_arabic (full_tweets, label, location, quote_count, reply_count, retweet_count,\n",
    "                              favorite_count, id) VALUES (%s,%s,%s,%s,%s,%s,%s,%s)\"\"\"\n",
    "        for j in range(data_ar_l.shape[1]): #iterating through the columns\n",
    "            val.append((data_ar_l.iloc[i,j])) #append it to the list\n",
    "        session.execute(sql, val) \n",
    "    print(\"Rows were inserted.\")\n",
    "\n",
    "except mysql.connector.Error as error:\n",
    "    print(\"Failed to insert rows into Cassandra: {}\".format(error))  "
   ]
  },
  {
   "cell_type": "markdown",
   "metadata": {},
   "source": [
    "#### Labeled English data"
   ]
  },
  {
   "cell_type": "code",
   "execution_count": 45,
   "metadata": {},
   "outputs": [
    {
     "data": {
      "text/plain": [
       "(5000, 8)"
      ]
     },
     "execution_count": 45,
     "metadata": {},
     "output_type": "execute_result"
    }
   ],
   "source": [
    "data_en_l.shape"
   ]
  },
  {
   "cell_type": "code",
   "execution_count": 46,
   "metadata": {},
   "outputs": [],
   "source": [
    "#Clean the location column\n",
    "rmap2 = {'[^a-zA-Z0-9\\s]+': ' '} \n",
    "for r, map in rmap2.items():\n",
    "    data_en_l['location']= [re.sub(r, map, e) for e in data_en_l['location']]"
   ]
  },
  {
   "cell_type": "code",
   "execution_count": 47,
   "metadata": {},
   "outputs": [],
   "source": [
    "#drop the language column \n",
    "data_en_l.drop('language', axis=1, inplace=True) "
   ]
  },
  {
   "cell_type": "code",
   "execution_count": 48,
   "metadata": {},
   "outputs": [],
   "source": [
    "#set index to the dataset\n",
    "data_en_l['id']= data_en_l.index"
   ]
  },
  {
   "cell_type": "code",
   "execution_count": 49,
   "metadata": {},
   "outputs": [
    {
     "data": {
      "text/plain": [
       "21"
      ]
     },
     "execution_count": 49,
     "metadata": {},
     "output_type": "execute_result"
    }
   ],
   "source": [
    "#count the number of missing tweets\n",
    "data_en_l['full_tweets'].isna().sum()"
   ]
  },
  {
   "cell_type": "code",
   "execution_count": 50,
   "metadata": {},
   "outputs": [],
   "source": [
    "#drop empty text files\n",
    "data_en_l.dropna(inplace=True)\n"
   ]
  },
  {
   "cell_type": "code",
   "execution_count": 51,
   "metadata": {},
   "outputs": [],
   "source": [
    "#covert the labels column into integer then change the type into object\n",
    "data_en_l['Label']= pd.to_numeric(data_en_l['Label'], downcast='integer')\n",
    "data_en_l['Label'] = data_en_l['Label'].astype('int')"
   ]
  },
  {
   "cell_type": "code",
   "execution_count": 52,
   "metadata": {},
   "outputs": [
    {
     "name": "stdout",
     "output_type": "stream",
     "text": [
      "Percentage of irrelevent English tweets >> 67.78469572203254\n"
     ]
    }
   ],
   "source": [
    "#report the percentage of irrelevent tweets\n",
    "irrelevent = data_en_l[data_en_l['Label'] == -1]\n",
    "print('Percentage of irrelevent English tweets >>', (len(irrelevent)/data_en_l.shape[0])*100)"
   ]
  },
  {
   "cell_type": "code",
   "execution_count": 53,
   "metadata": {},
   "outputs": [],
   "source": [
    "#drop the unrelevent tweets\n",
    "data_en_l.drop(irrelevent.index, inplace=True)"
   ]
  },
  {
   "cell_type": "code",
   "execution_count": 54,
   "metadata": {},
   "outputs": [],
   "source": [
    "# merge the 1 and 2 labels to be all labeled as 1\n",
    "data_en_l['Label']= data_en_l['Label'].replace(2,1)"
   ]
  },
  {
   "cell_type": "code",
   "execution_count": 55,
   "metadata": {},
   "outputs": [
    {
     "data": {
      "text/plain": [
       "(1604, 8)"
      ]
     },
     "execution_count": 55,
     "metadata": {},
     "output_type": "execute_result"
    }
   ],
   "source": [
    "data_en_l.shape"
   ]
  },
  {
   "cell_type": "code",
   "execution_count": 56,
   "metadata": {},
   "outputs": [],
   "source": [
    "#replace the location column\n",
    "data_en_l['location']= replace.replace_english(data_en_l['location'])"
   ]
  },
  {
   "cell_type": "markdown",
   "metadata": {},
   "source": [
    "We need to convert the columns into objects to be inserted into MYSQL database"
   ]
  },
  {
   "cell_type": "code",
   "execution_count": 57,
   "metadata": {},
   "outputs": [],
   "source": [
    "data_en_l['Label'] = data_en_l['Label'].astype('str')\n",
    "data_en_l['quote_count'] = data_en_l['quote_count'].astype('str')\n",
    "data_en_l['reply_count'] = data_en_l['reply_count'].astype('str')\n",
    "data_en_l['retweet_count'] = data_en_l['retweet_count'].astype('str')\n",
    "data_en_l['favorite_count'] = data_en_l['favorite_count'].astype('str')\n",
    "data_en_l['id'] = data_en_l['id'].astype('str')"
   ]
  },
  {
   "cell_type": "code",
   "execution_count": 58,
   "metadata": {},
   "outputs": [
    {
     "name": "stdout",
     "output_type": "stream",
     "text": [
      "Query successful\n"
     ]
    }
   ],
   "source": [
    "#create the schema for the english labled tweets\n",
    "create_data_en_l_table = \"\"\" CREATE TABLE labeled_english (full_tweets VARCHAR(450) NULL,label VARCHAR(1) NULL, location VARCHAR(100) NULL,\n",
    "                      quote_count INT NULL, reply_count INT NULL, retweet_count INT NULL, favorite_count INT NULL,\n",
    "                      id INT NOT NULL, PRIMARY KEY(id)); \"\"\"\n",
    "\n",
    "#execute the schema\n",
    "execute_query(database_connection, create_data_en_l_table)"
   ]
  },
  {
   "cell_type": "code",
   "execution_count": 59,
   "metadata": {},
   "outputs": [
    {
     "name": "stdout",
     "output_type": "stream",
     "text": [
      "Rows were inserted.\n"
     ]
    }
   ],
   "source": [
    "try:\n",
    "    mycursor = database_connection.cursor()\n",
    "    for i in range(data_en_l.shape[0]):\n",
    "        val = []\n",
    "        sql = \"\"\"INSERT INTO labeled_english (full_tweets, label, location, quote_count, reply_count, retweet_count, favorite_count, id)\n",
    "                                 VALUES (%s,%s,%s,%s,%s,%s,%s,%s);\"\"\"\n",
    "        for j in range(data_en_l.shape[1]): #iterating through the columns\n",
    "            val.append((data_en_l.iloc[i,j])) #append it to the list\n",
    "        mycursor.execute(sql, val) \n",
    "        database_connection.commit()\n",
    "    print(\"Rows were inserted.\")\n",
    "\n",
    "except mysql.connector.Error as error:\n",
    "    print(\"Failed to insert rows in MySQL: {}\".format(error))  "
   ]
  },
  {
   "cell_type": "code",
   "execution_count": 70,
   "metadata": {},
   "outputs": [
    {
     "data": {
      "text/plain": [
       "<cassandra.cluster.ResultSet at 0x1a7c8926e20>"
      ]
     },
     "execution_count": 70,
     "metadata": {},
     "output_type": "execute_result"
    }
   ],
   "source": [
    "session.execute(\"\"\"CREATE TABLE labeled_english (full_tweets VARCHAR,label VARCHAR, location VARCHAR,\n",
    "                      quote_count VARCHAR, reply_count VARCHAR, retweet_count VARCHAR, favorite_count VARCHAR,\n",
    "                      id VARCHAR PRIMARY KEY);\"\"\")"
   ]
  },
  {
   "cell_type": "code",
   "execution_count": 71,
   "metadata": {},
   "outputs": [
    {
     "name": "stdout",
     "output_type": "stream",
     "text": [
      "Rows were inserted.\n"
     ]
    }
   ],
   "source": [
    "try:\n",
    "    for i in range(data_en_l.shape[0]):\n",
    "        val = []\n",
    "        sql = \"\"\"INSERT INTO labeled_english (full_tweets, label, location, quote_count, reply_count, retweet_count,\n",
    "                              favorite_count, id) VALUES (%s,%s,%s,%s,%s,%s,%s,%s)\"\"\"\n",
    "        for j in range(data_en_l.shape[1]): #iterating through the columns\n",
    "            val.append((data_en_l.iloc[i,j])) #append it to the list\n",
    "        session.execute(sql, val) \n",
    "    print(\"Rows were inserted.\")\n",
    "\n",
    "except mysql.connector.Error as error:\n",
    "    print(\"Failed to insert rows into Cassandra: {}\".format(error))  "
   ]
  },
  {
   "cell_type": "code",
   "execution_count": 73,
   "metadata": {},
   "outputs": [],
   "source": [
    "#close cassandra connection\n",
    "clstr.shutdown()"
   ]
  },
  {
   "cell_type": "markdown",
   "metadata": {},
   "source": [
    "## Reading back the labeled datasets for analysis and visualization "
   ]
  },
  {
   "cell_type": "markdown",
   "metadata": {},
   "source": [
    "We will be reading our labeled data from MySQL, we will visualize our findings, and then we will build a model to predict whether a tweet indicates a positive or a negative attitude towards tweets. For the purpose of understanding people's concerns towards the vaccine and tackle these concerns for the purpose of getting past the pandemic."
   ]
  },
  {
   "cell_type": "markdown",
   "metadata": {},
   "source": [
    "### The labeled arabic dataset"
   ]
  },
  {
   "cell_type": "code",
   "execution_count": 8,
   "metadata": {},
   "outputs": [],
   "source": [
    "q1 = \"\"\"SELECT * FROM labeled_arabic;\"\"\"\n",
    "\n",
    "results_arabic = read_query(database_connection, q1)"
   ]
  },
  {
   "cell_type": "code",
   "execution_count": 9,
   "metadata": {},
   "outputs": [],
   "source": [
    "arabic = []\n",
    "for result in results_arabic:\n",
    "    result = list(result)\n",
    "    arabic.append(result)"
   ]
  },
  {
   "cell_type": "code",
   "execution_count": 10,
   "metadata": {},
   "outputs": [],
   "source": [
    "columns = ['full_tweets', 'label', 'location', 'quote_count', 'reply_count', 'retweet_count','favorite_count', 'id']\n",
    "df_arabic = pd.DataFrame(arabic, columns=columns)"
   ]
  },
  {
   "cell_type": "code",
   "execution_count": 11,
   "metadata": {},
   "outputs": [
    {
     "name": "stdout",
     "output_type": "stream",
     "text": [
      "Percentage of positive tweets >> 96.41638225255973\n"
     ]
    }
   ],
   "source": [
    "#extracting the percentage of positive tweets\n",
    "positives = df_arabic[df_arabic['label'] == '1']\n",
    "print('Percentage of positive tweets >>', (len(positives)/df_arabic.shape[0])*100)"
   ]
  },
  {
   "cell_type": "code",
   "execution_count": 12,
   "metadata": {},
   "outputs": [],
   "source": [
    "mapping = replace.features_list(df_arabic['location'],10)\n",
    "df_arabic['location'] = df_arabic['location'].replace(mapping, 'other')"
   ]
  },
  {
   "cell_type": "code",
   "execution_count": 13,
   "metadata": {},
   "outputs": [
    {
     "data": {
      "image/png": "[encoded data removed]",
      "text/plain": [
       "<Figure size 720x504 with 1 Axes>"
      ]
     },
     "metadata": {},
     "output_type": "display_data"
    }
   ],
   "source": [
    "#graph the locations \n",
    "from matplotlib import pyplot as plt\n",
    "import numpy as np\n",
    "labels = df_arabic['location'].unique().tolist()\n",
    "data = df_arabic['location'].value_counts().tolist()\n",
    "\n",
    "fig = plt.figure(figsize =(10, 7))\n",
    "plt.pie(data, labels = labels, autopct='%1.2f%%')\n",
    "\n",
    "plt.title(label=\"Location of tweets\",\n",
    "          loc=\"center\",\n",
    "          fontstyle='italic')\n",
    "  \n",
    "# show plot\n",
    "plt.show()"
   ]
  },
  {
   "cell_type": "code",
   "execution_count": 14,
   "metadata": {},
   "outputs": [
    {
     "name": "stdout",
     "output_type": "stream",
     "text": [
      "Number of people who retweeted the negative tweets >> 1290\n",
      "Number of people who retweeted the positive tweets >> 11562\n"
     ]
    }
   ],
   "source": [
    "#analyze the number of users who retweeted positive and negative tweets\n",
    "neg_retweets = df_arabic['retweet_count'][df_arabic['retweet_count']!=0][df_arabic['label'] == '0'].sum()\n",
    "print('Number of people who retweeted the negative tweets >>',neg_retweets)\n",
    "\n",
    "pos_retweets =  df_arabic['retweet_count'][df_arabic['retweet_count']!=0][df_arabic['label'] == '1'].sum()\n",
    "print('Number of people who retweeted the positive tweets >>',pos_retweets)"
   ]
  },
  {
   "cell_type": "code",
   "execution_count": 15,
   "metadata": {},
   "outputs": [
    {
     "name": "stdout",
     "output_type": "stream",
     "text": [
      "Number of people who liked the negative tweets >> 1278\n",
      "Number of people who liked the positive tweets >> 11168\n"
     ]
    }
   ],
   "source": [
    "#analyze the number of users who liked positive and negative tweets\n",
    "neg_likes = df_arabic['favorite_count'][df_arabic['favorite_count']!=0][df_arabic['label'] == '0'].sum()\n",
    "print('Number of people who liked the negative tweets >>',neg_likes)\n",
    "\n",
    "pos_likes = df_arabic['favorite_count'][df_arabic['favorite_count']!=0][df_arabic['label'] == '1'].sum()\n",
    "print('Number of people who liked the positive tweets >>',pos_likes)"
   ]
  },
  {
   "cell_type": "code",
   "execution_count": 16,
   "metadata": {},
   "outputs": [
    {
     "name": "stdout",
     "output_type": "stream",
     "text": [
      "Number of people who replied on the negative tweets >> 51\n",
      "Number of people who replied on the positive tweets >> 1512\n"
     ]
    }
   ],
   "source": [
    "#analyze the number of people who replied on positive and negative tweets\n",
    "neg_reply = df_arabic['reply_count'][df_arabic['reply_count']!=0][df_arabic['label'] == '0'].sum()\n",
    "print('Number of people who replied on the negative tweets >>',neg_reply)\n",
    "\n",
    "pos_reply = df_arabic['reply_count'][df_arabic['reply_count']!=0][df_arabic['label'] == '1'].sum()\n",
    "print('Number of people who replied on the positive tweets >>',pos_reply)"
   ]
  },
  {
   "cell_type": "code",
   "execution_count": 17,
   "metadata": {},
   "outputs": [
    {
     "name": "stdout",
     "output_type": "stream",
     "text": [
      "Number of people who quoted on the negative tweets >> 19\n",
      "Number of people who quoted the positive tweets >> 219\n"
     ]
    }
   ],
   "source": [
    "#analyze the number of people who quoted positive and negative tweets\n",
    "neg_quote = df_arabic['quote_count'][df_arabic['quote_count']!=0][df_arabic['label'] == '0'].sum()\n",
    "print('Number of people who quoted on the negative tweets >>',neg_quote)\n",
    "\n",
    "pos_quote = df_arabic['quote_count'][df_arabic['quote_count']!=0][df_arabic['label'] == '1'].sum()\n",
    "print('Number of people who quoted the positive tweets >>',pos_quote)"
   ]
  },
  {
   "cell_type": "code",
   "execution_count": 18,
   "metadata": {},
   "outputs": [
    {
     "data": {
      "image/png": "[encoded data removed]",
      "text/plain": [
       "<Figure size 720x504 with 1 Axes>"
      ]
     },
     "metadata": {
      "needs_background": "light"
     },
     "output_type": "display_data"
    }
   ],
   "source": [
    "#plot the number of people who reacted to tweets\n",
    "plt.figure(num=None, figsize=(10, 7))\n",
    "Labels=['negitives','positives']\n",
    "d1 = [neg_retweets, pos_retweets]\n",
    "d2 = [neg_likes, pos_likes]\n",
    "d3 = [neg_reply, pos_reply]\n",
    "d4 = [neg_quote, pos_quote]\n",
    "\n",
    "y_pos=np.arange(len(Labels))\n",
    "plt.bar(y_pos + 0, d1,width=0.2, color = 'navy' , label='retweets')\n",
    "plt.bar(y_pos + 0.2,d2, width=0.2,color = 'skyblue',label = 'likes')\n",
    "plt.bar(y_pos + 0.4,d3,width=0.2, color = 'darkcyan' , label='reply')\n",
    "plt.bar(y_pos + 0.6, d4,width=0.2, color = 'black' , label='quote')\n",
    "\n",
    "plt.xticks(y_pos, Labels)\n",
    "plt.legend(('retweets','likes', 'reply', 'quote'))\n",
    "plt.ylabel('Numbers of users')\n",
    "plt.xlabel('properties')\n",
    "plt.title(\"Number of users who reacted to tweets\")\n",
    "plt.show()"
   ]
  },
  {
   "cell_type": "code",
   "execution_count": 19,
   "metadata": {},
   "outputs": [
    {
     "data": {
      "image/png": "[encoded data removed]",
      "text/plain": [
       "<Figure size 720x504 with 1 Axes>"
      ]
     },
     "metadata": {},
     "output_type": "display_data"
    }
   ],
   "source": [
    "#graph the locations of negative tweets\n",
    "from matplotlib import pyplot as plt\n",
    "import numpy as np\n",
    "labels = df_arabic['location'][df_arabic['label'] == '0'].unique().tolist()\n",
    "data = df_arabic['location'][df_arabic['label'] == '0'].value_counts().tolist()\n",
    "\n",
    "fig = plt.figure(figsize =(10, 7))\n",
    "plt.pie(data, labels = labels, autopct='%1.2f%%')\n",
    "\n",
    "plt.title(label=\"Location of negative tweets\",\n",
    "          loc=\"center\",\n",
    "          fontstyle='italic')\n",
    "  \n",
    "# show plot\n",
    "plt.show()"
   ]
  },
  {
   "cell_type": "markdown",
   "metadata": {},
   "source": [
    "The high numbers associated with positive tweets are understandable due to the high number of positive labels in our data. However, negative tweets had high numbers of retweets and likes relative to the actual tweets numbers and lower numbers of quotes and replies, which indicates that many users are spreading their concerns about the vaccines, which in turn can indicate that large number of people need to be ensured and their concerns need to be answered in order to overcome the pandemic.\n",
    "\n",
    "Therefore, we will be building a classification model to predict a tweet to be negative or positive in order to identify people who are sceptical about the vaccines, analyze their reasons, and design campagins to address their concerns."
   ]
  },
  {
   "cell_type": "markdown",
   "metadata": {},
   "source": [
    "#### Classifying Arabic Tweets"
   ]
  },
  {
   "cell_type": "markdown",
   "metadata": {},
   "source": [
    "The data was already cleaned so we will move directly to splitting the data and preprocessing. We will be getting the text column and the labels, then we will be splitting the data into 80% train and 20% test since the data is highly imbalanced and has a small size."
   ]
  },
  {
   "cell_type": "code",
   "execution_count": 93,
   "metadata": {},
   "outputs": [
    {
     "name": "stdout",
     "output_type": "stream",
     "text": [
      "Requirement already satisfied: stop-words in c:\\users\\user\\anaconda3\\lib\\site-packages (2018.7.23)\n",
      "Requirement already satisfied: qalsadi in c:\\users\\user\\anaconda3\\lib\\site-packages (0.4.3)\n",
      "Requirement already satisfied: alyahmor>=0.1 in c:\\users\\user\\anaconda3\\lib\\site-packages (from qalsadi) (0.1.2)\n",
      "Requirement already satisfied: Arabic-Stopwords>=0.3 in c:\\users\\user\\anaconda3\\lib\\site-packages (from qalsadi) (0.3)\n",
      "Requirement already satisfied: future>=0.16.0 in c:\\users\\user\\anaconda3\\lib\\site-packages (from qalsadi) (0.18.2)\n",
      "Requirement already satisfied: pyarabic>=0.6.7 in c:\\users\\user\\anaconda3\\lib\\site-packages (from qalsadi) (0.6.10)\n",
      "Requirement already satisfied: pickledb>=0.9.2 in c:\\users\\user\\anaconda3\\lib\\site-packages (from qalsadi) (0.9.2)\n",
      "Requirement already satisfied: arramooz-pysqlite>=0.3 in c:\\users\\user\\anaconda3\\lib\\site-packages (from qalsadi) (0.3)\n",
      "Requirement already satisfied: libqutrub>=1.2.3 in c:\\users\\user\\anaconda3\\lib\\site-packages (from qalsadi) (1.2.4.1)\n",
      "Requirement already satisfied: six>=1.10.0 in c:\\users\\user\\anaconda3\\lib\\site-packages (from qalsadi) (1.15.0)\n",
      "Requirement already satisfied: tashaphyne>=0.3.4.1 in c:\\users\\user\\anaconda3\\lib\\site-packages (from qalsadi) (0.3.4.1)\n",
      "Requirement already satisfied: naftawayh>=0.3 in c:\\users\\user\\anaconda3\\lib\\site-packages (from qalsadi) (0.4)\n"
     ]
    }
   ],
   "source": [
    "#installing packages we will be needing later\n",
    "!pip install stop-words\n",
    "!pip install qalsadi"
   ]
  },
  {
   "cell_type": "code",
   "execution_count": 21,
   "metadata": {},
   "outputs": [],
   "source": [
    "import numpy as np\n",
    "import pandas as pd\n",
    "import matplotlib.pyplot as plt\n",
    "import nltk\n",
    "import preprocessing as pp  # local module\n",
    "import feature_extraction as fe #local module\n",
    "import model as m #local module\n",
    "import re\n",
    "from sklearn.model_selection import train_test_split"
   ]
  },
  {
   "cell_type": "markdown",
   "metadata": {},
   "source": [
    "##### Splitting and Preprocessing"
   ]
  },
  {
   "cell_type": "code",
   "execution_count": 22,
   "metadata": {},
   "outputs": [
    {
     "name": "stdout",
     "output_type": "stream",
     "text": [
      "Train data shape >> (937,)\n",
      "Test data shape >> (235,)\n"
     ]
    }
   ],
   "source": [
    "#getting the data\n",
    "df = df_arabic[['full_tweets', 'label']]\n",
    "\n",
    "#split the data into train and test\n",
    "train_corpus, test_corpus, train_label, test_label = train_test_split(df['full_tweets'],df['label'],\n",
    "                                                                        test_size=0.20, random_state=42)\n",
    "print('Train data shape >>', train_corpus.shape)\n",
    "print('Test data shape >>', test_corpus.shape)"
   ]
  },
  {
   "cell_type": "markdown",
   "metadata": {},
   "source": [
    "##### Step 1: Raw Data - Build the minimum pipeline without preprocessing"
   ]
  },
  {
   "cell_type": "code",
   "execution_count": 23,
   "metadata": {},
   "outputs": [
    {
     "name": "stdout",
     "output_type": "stream",
     "text": [
      "TFIDF model:> Train features shape: (937, 3281)  test features shape: (235, 3281)\n"
     ]
    }
   ],
   "source": [
    "# Use Raw Data with TF-IDF\n",
    "tv_train_features,tv_test_features = fe.tfidf_vectors(train_corpus, test_corpus,ngram_range=(1,1),max_features=None)\n",
    "print('TFIDF model:> Train features shape:', tv_train_features.shape,' test features shape:', tv_test_features.shape)"
   ]
  },
  {
   "cell_type": "code",
   "execution_count": 24,
   "metadata": {},
   "outputs": [
    {
     "name": "stdout",
     "output_type": "stream",
     "text": [
      "TF-IDF + Raw Data Train Mean ROC AUC score >>  0.8997316495659037\n"
     ]
    }
   ],
   "source": [
    "# Naïve Bayes Classifier\n",
    "Raw_Train_Score=m.naive_bayes_model1(tv_train_features, train_label)\n",
    "print('TF-IDF + Raw Data Train Mean ROC AUC score >> ', Raw_Train_Score)"
   ]
  },
  {
   "cell_type": "markdown",
   "metadata": {},
   "source": [
    "##### Step 2: Execute each preprocessing step alone to check its impact on the same previous model¶"
   ]
  },
  {
   "cell_type": "markdown",
   "metadata": {},
   "source": [
    "We tried several preprocessing methods such as stopwords removal, stemming (ISRI & and Arabic light), lemmatization, Diacritics Removal, and normalization. However, we will report the ones that improved the performance on the cross validated AUC Score."
   ]
  },
  {
   "cell_type": "markdown",
   "metadata": {},
   "source": [
    "<p style=\"color:blue; font-size:16px;\">Lemmatization</p>"
   ]
  },
  {
   "cell_type": "code",
   "execution_count": 76,
   "metadata": {},
   "outputs": [
    {
     "name": "stdout",
     "output_type": "stream",
     "text": [
      "TFIDF model:> Train features shape: (937, 2312)  Test features shape: (235, 2312)\n",
      "TF-IDF + lemmatization Train score >>  0.9195343330702446\n",
      "Percentage improvement in Train CV score >>  2.200954419453306\n"
     ]
    }
   ],
   "source": [
    "#Apply lemmatization on train data\n",
    "norm_train_corpus = pp.normalize_corpus(corpus=train_corpus, stopwords_removal=False,\n",
    "                                        stemming=False,stem ='Is', diacritics_removal=False,\n",
    "                                        normalization=False,lemmatization=True)\n",
    "\n",
    "# Use the new Data with TF-IDF\n",
    "tv_train_features,tv_test_features = fe.tfidf_vectors(norm_train_corpus, test_corpus,ngram_range=(1,1),max_features=None)\n",
    "print('TFIDF model:> Train features shape:', tv_train_features.shape,' Test features shape:', tv_test_features.shape)\n",
    "\n",
    "# Naïve Bayes Classifier\n",
    "Train_Score=m.naive_bayes_model1(tv_train_features, train_label)\n",
    "print('TF-IDF + lemmatization Train score >> ', Train_Score)\n",
    "\n",
    "#calculate the improvement in accuracy on test data in %\n",
    "improvement = (Train_Score -  Raw_Train_Score)/ Raw_Train_Score\n",
    "print('Percentage improvement in Train CV score >> ' , '%.15f' % (improvement * 100))"
   ]
  },
  {
   "cell_type": "markdown",
   "metadata": {},
   "source": [
    "<p style=\"color:blue; font-size:16px;\">Stemming (Arabic Light Stemmer)</p>"
   ]
  },
  {
   "cell_type": "code",
   "execution_count": 24,
   "metadata": {},
   "outputs": [
    {
     "name": "stdout",
     "output_type": "stream",
     "text": [
      "TFIDF model:> Train features shape: (937, 2298)  Test features shape: (235, 2298)\n",
      "TF-IDF + stemming Train score>>  0.9060975181969656\n",
      "Percentage improvement in Train CV score >>  0.707529698897808\n"
     ]
    }
   ],
   "source": [
    "#Apply stemming on train data\n",
    "norm_train_corpus = pp.normalize_corpus(corpus=train_corpus, stopwords_removal=False,\n",
    "                                        stemming=True,stem ='Al', diacritics_removal=False,\n",
    "                                        normalization=False,lemmatization=False)\n",
    "\n",
    "# Use the new Data with TF-IDF\n",
    "tv_train_features,tv_test_features = fe.tfidf_vectors(norm_train_corpus, test_corpus,ngram_range=(1,1),max_features=None)\n",
    "print('TFIDF model:> Train features shape:', tv_train_features.shape,' Test features shape:', tv_test_features.shape)\n",
    "\n",
    "# Naïve Bayes Classifier\n",
    "Train_Score=m.naive_bayes_model1(tv_train_features, train_label)\n",
    "print('TF-IDF + stemming Train score>> ', Train_Score)\n",
    "\n",
    "#calculate the improvement in accuracy on test data in %\n",
    "improvement = (Train_Score - Raw_Train_Score)/Raw_Train_Score\n",
    "print('Percentage improvement in Train CV score >> ' , '%.15f' % (improvement * 100))"
   ]
  },
  {
   "cell_type": "markdown",
   "metadata": {},
   "source": [
    "Now we will try to combine the methods in the following order to see if the improvement would increase further. We tried several orders of the preprocessing methods but we found that the following order is the best:\n",
    "\n",
    "*   Lemmatization \n",
    "*   Stemming (Arabic Light)"
   ]
  },
  {
   "cell_type": "code",
   "execution_count": 25,
   "metadata": {},
   "outputs": [
    {
     "name": "stdout",
     "output_type": "stream",
     "text": [
      "TFIDF model:> Train features shape: (937, 2014)  Test features shape: (235, 2014)\n",
      "TF-IDF + all Train score >>  0.9235017100762957\n",
      "Percentage improvement in Train CV score >>  2.641905563937915\n"
     ]
    }
   ],
   "source": [
    "#Apply all on train data\n",
    "norm_train_corpus = pp.normalize_corpus(corpus=train_corpus, stopwords_removal=False,\n",
    "                                        stemming=True,stem ='Al', diacritics_removal=False,\n",
    "                                        normalization=False,lemmatization=True)\n",
    "\n",
    "\n",
    "# Use the new Data with TF-IDF\n",
    "tv_train_features,tv_test_features = fe.tfidf_vectors(norm_train_corpus,test_corpus,ngram_range=(1,1),max_features=None)\n",
    "print('TFIDF model:> Train features shape:', tv_train_features.shape,' Test features shape:', tv_test_features.shape)\n",
    "\n",
    "# Naïve Bayes Classifier\n",
    "Train_Score=m.naive_bayes_model1(tv_train_features, train_label)\n",
    "print('TF-IDF + all Train score >> ', Train_Score)\n",
    "\n",
    "#calculate the improvement in accuracy on test data in %\n",
    "improvement = (Train_Score - Raw_Train_Score)/Raw_Train_Score\n",
    "print('Percentage improvement in Train CV score >> ' , '%.15f' % (improvement * 100))"
   ]
  },
  {
   "cell_type": "markdown",
   "metadata": {},
   "source": [
    "##### Feature extraction and models"
   ]
  },
  {
   "cell_type": "markdown",
   "metadata": {},
   "source": [
    "We will now experiment with different feature engineering & classification models. We tried BOW(unigram + bigram) and TF-IDF(unigram + bigram), but we decided that the bigram was better on almost all the models."
   ]
  },
  {
   "cell_type": "markdown",
   "metadata": {},
   "source": [
    "##### BOW (bigram)"
   ]
  },
  {
   "cell_type": "code",
   "execution_count": 26,
   "metadata": {},
   "outputs": [
    {
     "name": "stdout",
     "output_type": "stream",
     "text": [
      "Bigram BOW model:> Train features shape: (937, 6962)  Test features shape: (235, 6962)\n"
     ]
    }
   ],
   "source": [
    "cv_train_features,cv_test_features = fe.bow_vectors(norm_train_corpus, test_corpus,ngram_range=(1,2),max_features=None)\n",
    "print('Bigram BOW model:> Train features shape:', cv_train_features.shape,' Test features shape:', cv_test_features.shape)"
   ]
  },
  {
   "cell_type": "markdown",
   "metadata": {},
   "source": [
    "##### Naive Bayes Complement"
   ]
  },
  {
   "cell_type": "code",
   "execution_count": 79,
   "metadata": {},
   "outputs": [
    {
     "name": "stdout",
     "output_type": "stream",
     "text": [
      "Bigram BoW + CNB Auc Score >>  0.9052696658774007\n"
     ]
    }
   ],
   "source": [
    "bow_cnb_auc_score= m.naive_bayes_cnb(cv_train_features, train_label ,alpha=1.0)\n",
    "print('Bigram BoW + CNB Auc Score >> ', bow_cnb_auc_score)"
   ]
  },
  {
   "cell_type": "markdown",
   "metadata": {},
   "source": [
    "##### Logistic Regression"
   ]
  },
  {
   "cell_type": "code",
   "execution_count": 80,
   "metadata": {},
   "outputs": [
    {
     "name": "stdout",
     "output_type": "stream",
     "text": [
      "Bigram BoW + lr Auc Score >>  0.932992195036394\n"
     ]
    }
   ],
   "source": [
    "bow_lr_auc_score=m.logistic_model(cv_train_features, train_label,C=1.0,max_iter=1000)\n",
    "print('Bigram BoW + lr Auc Score >> ', bow_lr_auc_score)"
   ]
  },
  {
   "cell_type": "markdown",
   "metadata": {},
   "source": [
    "##### KNN"
   ]
  },
  {
   "cell_type": "code",
   "execution_count": 81,
   "metadata": {},
   "outputs": [
    {
     "name": "stdout",
     "output_type": "stream",
     "text": [
      "Bigram BoW + knn Auc Score >>  0.8522195913356135\n"
     ]
    }
   ],
   "source": [
    "bow_knn_auc_score=m.knn_model(cv_train_features, train_label,n_neighbors=5)\n",
    "print('Bigram BoW + knn Auc Score >> ', bow_knn_auc_score)"
   ]
  },
  {
   "cell_type": "markdown",
   "metadata": {},
   "source": [
    "##### Decision Tree"
   ]
  },
  {
   "cell_type": "code",
   "execution_count": 82,
   "metadata": {},
   "outputs": [
    {
     "name": "stdout",
     "output_type": "stream",
     "text": [
      "Bigram BoW + clf Auc Score >>  0.6107997895290713\n"
     ]
    }
   ],
   "source": [
    "bow_clf_auc_score=m.decision_tree_model(cv_train_features, train_label,max_depth=None)\n",
    "print('Bigram BoW + clf Auc Score >> ', bow_clf_auc_score)"
   ]
  },
  {
   "cell_type": "markdown",
   "metadata": {},
   "source": [
    "##### TF-IDF (bigram)"
   ]
  },
  {
   "cell_type": "code",
   "execution_count": 83,
   "metadata": {},
   "outputs": [
    {
     "name": "stdout",
     "output_type": "stream",
     "text": [
      "TFIDF model:> Train features shape: (937, 6962)  Test features shape: (235, 6962)\n"
     ]
    }
   ],
   "source": [
    "tv2_train_features,tv2_test_features = fe.tfidf_vectors(norm_train_corpus, test_corpus,ngram_range=(1,2),max_features=None)\n",
    "print('TFIDF model:> Train features shape:', tv2_train_features.shape,' Test features shape:', tv2_test_features.shape)"
   ]
  },
  {
   "cell_type": "markdown",
   "metadata": {},
   "source": [
    "##### Naive Bayes Complement"
   ]
  },
  {
   "cell_type": "code",
   "execution_count": 84,
   "metadata": {},
   "outputs": [
    {
     "name": "stdout",
     "output_type": "stream",
     "text": [
      "Bigram Tf-IDF + cnb Auc Score >>  0.9147785670437603\n"
     ]
    }
   ],
   "source": [
    "tv2_cnb_auc_score=m.naive_bayes_cnb(tv2_train_features, train_label,alpha=1.0)\n",
    "print('Bigram Tf-IDF + cnb Auc Score >> ', tv2_cnb_auc_score)"
   ]
  },
  {
   "cell_type": "markdown",
   "metadata": {},
   "source": [
    "##### Logistic Regression"
   ]
  },
  {
   "cell_type": "code",
   "execution_count": 85,
   "metadata": {},
   "outputs": [
    {
     "name": "stdout",
     "output_type": "stream",
     "text": [
      "Bigram Tf-IDF + lr Auc Score >>  0.9323914759273876\n"
     ]
    }
   ],
   "source": [
    "tv2_lr_auc_score=m.logistic_model(tv2_train_features, train_label,C=1.0,max_iter=1000)\n",
    "print('Bigram Tf-IDF + lr Auc Score >> ', tv2_lr_auc_score)"
   ]
  },
  {
   "cell_type": "markdown",
   "metadata": {},
   "source": [
    "##### KNN"
   ]
  },
  {
   "cell_type": "code",
   "execution_count": 86,
   "metadata": {},
   "outputs": [
    {
     "name": "stdout",
     "output_type": "stream",
     "text": [
      "Bigram Tf-IDF + knn Auc Score >>  0.6660277997018329\n"
     ]
    }
   ],
   "source": [
    "tv2_knn_auc_score=m.knn_model(tv2_train_features, train_label,n_neighbors=5)\n",
    "print('Bigram Tf-IDF + knn Auc Score >> ', tv2_knn_auc_score)"
   ]
  },
  {
   "cell_type": "markdown",
   "metadata": {},
   "source": [
    "##### Decision Tree"
   ]
  },
  {
   "cell_type": "code",
   "execution_count": 87,
   "metadata": {},
   "outputs": [
    {
     "name": "stdout",
     "output_type": "stream",
     "text": [
      "Bigram Tf-IDF + clf Auc Score >>  0.6252437954924143\n"
     ]
    }
   ],
   "source": [
    "tv2_clf_auc_score=m.decision_tree_model(tv2_train_features, train_label,max_depth=None)\n",
    "print('Bigram Tf-IDF + clf Auc Score >> ', tv2_clf_auc_score)"
   ]
  },
  {
   "cell_type": "code",
   "execution_count": 88,
   "metadata": {},
   "outputs": [
    {
     "data": {
      "text/html": [
       "<div>\n",
       "<style scoped>\n",
       "    .dataframe tbody tr th:only-of-type {\n",
       "        vertical-align: middle;\n",
       "    }\n",
       "\n",
       "    .dataframe tbody tr th {\n",
       "        vertical-align: top;\n",
       "    }\n",
       "\n",
       "    .dataframe thead th {\n",
       "        text-align: right;\n",
       "    }\n",
       "</style>\n",
       "<table border=\"1\" class=\"dataframe\">\n",
       "  <thead>\n",
       "    <tr style=\"text-align: right;\">\n",
       "      <th></th>\n",
       "      <th>Model</th>\n",
       "      <th>AUC Score(BOW Bigram)</th>\n",
       "      <th>AUC Score(Tf-Idf Bigram)</th>\n",
       "    </tr>\n",
       "  </thead>\n",
       "  <tbody>\n",
       "    <tr>\n",
       "      <th>0</th>\n",
       "      <td>Naive Bayes Compliment</td>\n",
       "      <td>0.905270</td>\n",
       "      <td>0.914779</td>\n",
       "    </tr>\n",
       "    <tr>\n",
       "      <th>1</th>\n",
       "      <td>Logistic Regression</td>\n",
       "      <td>0.932992</td>\n",
       "      <td>0.932391</td>\n",
       "    </tr>\n",
       "    <tr>\n",
       "      <th>2</th>\n",
       "      <td>KNN</td>\n",
       "      <td>0.852220</td>\n",
       "      <td>0.666028</td>\n",
       "    </tr>\n",
       "    <tr>\n",
       "      <th>3</th>\n",
       "      <td>Decision Tree</td>\n",
       "      <td>0.610800</td>\n",
       "      <td>0.625244</td>\n",
       "    </tr>\n",
       "  </tbody>\n",
       "</table>\n",
       "</div>"
      ],
      "text/plain": [
       "                    Model  AUC Score(BOW Bigram)  AUC Score(Tf-Idf Bigram)\n",
       "0  Naive Bayes Compliment               0.905270                  0.914779\n",
       "1     Logistic Regression               0.932992                  0.932391\n",
       "2                     KNN               0.852220                  0.666028\n",
       "3           Decision Tree               0.610800                  0.625244"
      ]
     },
     "execution_count": 88,
     "metadata": {},
     "output_type": "execute_result"
    }
   ],
   "source": [
    "pd.DataFrame([\n",
    "              ['Naive Bayes Compliment',bow_cnb_auc_score,tv2_cnb_auc_score],\n",
    "              ['Logistic Regression',bow_lr_auc_score,tv2_lr_auc_score],\n",
    "              ['KNN',bow_knn_auc_score,tv2_knn_auc_score],\n",
    "              ['Decision Tree',bow_clf_auc_score,tv2_clf_auc_score]],\n",
    "             columns=['Model', 'AUC Score(BOW Bigram)','AUC Score(Tf-Idf Bigram)'])"
   ]
  },
  {
   "cell_type": "markdown",
   "metadata": {},
   "source": [
    "We conclude that the logistic regression is the best model with the highest cross validation auc score. We will apply this model on the test dataset after fine tuning the model"
   ]
  },
  {
   "cell_type": "code",
   "execution_count": 27,
   "metadata": {},
   "outputs": [],
   "source": [
    "from sklearn.linear_model import LogisticRegression\n",
    "from sklearn.model_selection import cross_val_score, cross_val_predict\n",
    "from sklearn.metrics import roc_auc_score, confusion_matrix, roc_curve\n",
    "import numpy as np\n",
    "from sklearn.model_selection import RandomizedSearchCV\n",
    "from scipy.stats import randint"
   ]
  },
  {
   "cell_type": "code",
   "execution_count": 28,
   "metadata": {},
   "outputs": [
    {
     "data": {
      "text/plain": [
       "RandomizedSearchCV(cv=5, estimator=LogisticRegression(random_state=42),\n",
       "                   param_distributions={'C': <scipy.stats._distn_infrastructure.rv_frozen object at 0x00000260652A97C0>,\n",
       "                                        'max_iter': <scipy.stats._distn_infrastructure.rv_frozen object at 0x00000260628CA0D0>},\n",
       "                   random_state=42, scoring='roc_auc')"
      ]
     },
     "execution_count": 28,
     "metadata": {},
     "output_type": "execute_result"
    }
   ],
   "source": [
    "lr = LogisticRegression(penalty='l2', random_state=42)\n",
    "\n",
    "param_distribs = {'max_iter': randint(low=100, high=1000),'C': randint(low=0.01, high=10)}\n",
    "\n",
    "rnd_search_lr = RandomizedSearchCV(lr, param_distributions=param_distribs,\n",
    "                                n_iter=10, cv=5, scoring='roc_auc', random_state=42)\n",
    "\n",
    "rnd_search_lr.fit(cv_train_features, train_label)"
   ]
  },
  {
   "cell_type": "code",
   "execution_count": 29,
   "metadata": {},
   "outputs": [],
   "source": [
    "final_model = rnd_search_lr.best_estimator_"
   ]
  },
  {
   "cell_type": "markdown",
   "metadata": {},
   "source": [
    "##### Evaluate on test"
   ]
  },
  {
   "cell_type": "code",
   "execution_count": 30,
   "metadata": {},
   "outputs": [],
   "source": [
    "#Apply all on train data\n",
    "norm_test_corpus = pp.normalize_corpus(corpus=test_corpus, stopwords_removal=False,\n",
    "                                        stemming=True,stem ='Al', diacritics_removal=False,\n",
    "                                        normalization=False,lemmatization=True)"
   ]
  },
  {
   "cell_type": "code",
   "execution_count": 31,
   "metadata": {},
   "outputs": [
    {
     "name": "stdout",
     "output_type": "stream",
     "text": [
      "Bigram BOW model:> Train features shape: (937, 6962)  Test features shape: (235, 6962)\n",
      "Final AUC Score on the test dataset >>  0.7071067811865476\n"
     ]
    }
   ],
   "source": [
    "#apply the feature extraction on the test dataset\n",
    "cv_train_features,cv_test_features = fe.bow_vectors(norm_train_corpus, test_corpus,ngram_range=(1,2),max_features=None)\n",
    "print('Bigram BOW model:> Train features shape:', cv_train_features.shape,' Test features shape:', cv_test_features.shape)\n",
    "\n",
    "#apply the model\n",
    "predictions = final_model.predict(cv_test_features)\n",
    "final_auc = roc_auc_score(test_label, predictions)\n",
    "print('Final AUC Score on the test dataset >> ', np.sqrt(final_auc))"
   ]
  },
  {
   "cell_type": "markdown",
   "metadata": {},
   "source": [
    "As expected, the model is overfitting the data because of the small data set. However, we believe that the model will perform well if more data was gathered in detecting negative and positive tweets."
   ]
  },
  {
   "cell_type": "markdown",
   "metadata": {},
   "source": [
    "### The labeled English dataset"
   ]
  },
  {
   "cell_type": "code",
   "execution_count": 94,
   "metadata": {},
   "outputs": [],
   "source": [
    "q2 = \"\"\"SELECT * FROM labeled_english;\"\"\"\n",
    "\n",
    "results_english = read_query(database_connection, q2)"
   ]
  },
  {
   "cell_type": "code",
   "execution_count": 95,
   "metadata": {},
   "outputs": [],
   "source": [
    "english = []\n",
    "for result in results_english:\n",
    "    result = list(result)\n",
    "    english.append(result)"
   ]
  },
  {
   "cell_type": "code",
   "execution_count": 96,
   "metadata": {},
   "outputs": [],
   "source": [
    "columns = ['full_tweets', 'label', 'location', 'quote_count', 'reply_count', 'retweet_count','favorite_count', 'id']\n",
    "df_english = pd.DataFrame(english, columns=columns)"
   ]
  },
  {
   "cell_type": "code",
   "execution_count": 97,
   "metadata": {},
   "outputs": [
    {
     "name": "stdout",
     "output_type": "stream",
     "text": [
      "Percentage of positive tweets >> 72.2568578553616\n"
     ]
    }
   ],
   "source": [
    "#extracting the percentage of positive tweets\n",
    "positives_en = df_english[df_english['label'] == '1']\n",
    "print('Percentage of positive tweets >>', (len(positives_en)/df_english.shape[0])*100)"
   ]
  },
  {
   "cell_type": "code",
   "execution_count": 98,
   "metadata": {},
   "outputs": [],
   "source": [
    "mapping1 = replace.features_list(df_english['location'],10)\n",
    "df_english['location'] = df_english['location'].replace(mapping1, 'other')"
   ]
  },
  {
   "cell_type": "code",
   "execution_count": 99,
   "metadata": {},
   "outputs": [
    {
     "data": {
      "image/png": "[encoded data removed]",
      "text/plain": [
       "<Figure size 720x504 with 1 Axes>"
      ]
     },
     "metadata": {},
     "output_type": "display_data"
    }
   ],
   "source": [
    "#graph the locations \n",
    "from matplotlib import pyplot as plt\n",
    "import numpy as np\n",
    "labels = df_english['location'].unique().tolist()\n",
    "data = df_english['location'].value_counts().tolist()\n",
    "\n",
    "fig = plt.figure(figsize =(10, 7))\n",
    "plt.pie(data, labels = labels, autopct='%1.2f%%')\n",
    "\n",
    "plt.title(label=\"Location of tweets\",\n",
    "          loc=\"center\",\n",
    "          fontstyle='italic')\n",
    "  \n",
    "# show plot\n",
    "plt.show()"
   ]
  },
  {
   "cell_type": "code",
   "execution_count": 100,
   "metadata": {},
   "outputs": [
    {
     "name": "stdout",
     "output_type": "stream",
     "text": [
      "Number of people who retweeted the negative tweets >> 6261\n",
      "Number of people who retweeted the positive tweets >> 12648\n"
     ]
    }
   ],
   "source": [
    "#analyze the number of users who retweeted positive and negative tweets\n",
    "neg_retweets1 = df_english['retweet_count'][df_english['retweet_count']!=0][df_english['label'] == '0'].sum()\n",
    "print('Number of people who retweeted the negative tweets >>',neg_retweets1)\n",
    "\n",
    "pos_retweets1 = df_english['retweet_count'][df_english['retweet_count']!=0][df_english['label'] == '1'].sum()\n",
    "print('Number of people who retweeted the positive tweets >>',pos_retweets1)"
   ]
  },
  {
   "cell_type": "code",
   "execution_count": 101,
   "metadata": {},
   "outputs": [
    {
     "name": "stdout",
     "output_type": "stream",
     "text": [
      "Number of people who liked the negative tweets >> 16173\n",
      "Number of people who liked the positive tweets >> 37681\n"
     ]
    }
   ],
   "source": [
    "#analyze the number of users who liked positive and negative tweets\n",
    "neg_likes1 = df_english['favorite_count'][df_english['favorite_count']!=0][df_english['label'] == '0'].sum()\n",
    "print('Number of people who liked the negative tweets >>',neg_likes1)\n",
    "\n",
    "pos_likes1 = df_english['favorite_count'][df_english['favorite_count']!=0][df_english['label'] == '1'].sum()\n",
    "print('Number of people who liked the positive tweets >>',pos_likes1)"
   ]
  },
  {
   "cell_type": "code",
   "execution_count": 102,
   "metadata": {},
   "outputs": [
    {
     "name": "stdout",
     "output_type": "stream",
     "text": [
      "Number of people who replied on the negative tweets >> 1068\n",
      "Number of people who replied on the positive tweets >> 2761\n"
     ]
    }
   ],
   "source": [
    "#analyze the number of people who replied on positive and negative tweets\n",
    "neg_reply1 = df_english['reply_count'][df_english['reply_count']!=0][df_english['label'] == '0'].sum()\n",
    "print('Number of people who replied on the negative tweets >>',neg_reply1)\n",
    "\n",
    "pos_reply1 = df_english['reply_count'][df_english['reply_count']!=0][df_english['label'] == '1'].sum()\n",
    "print('Number of people who replied on the positive tweets >>',pos_reply1)"
   ]
  },
  {
   "cell_type": "code",
   "execution_count": 103,
   "metadata": {},
   "outputs": [
    {
     "name": "stdout",
     "output_type": "stream",
     "text": [
      "Number of people who quoted on the negative tweets >> 355\n",
      "Number of people who quoted the positive tweets >> 951\n"
     ]
    }
   ],
   "source": [
    "#analyze the number of people who quoted positive and negative tweets\n",
    "neg_quote1 = df_english['quote_count'][df_english['quote_count']!=0][df_english['label'] == '0'].sum()\n",
    "print('Number of people who quoted on the negative tweets >>',neg_quote1)\n",
    "\n",
    "pos_quote1 = df_english['quote_count'][df_english['quote_count']!=0][df_english['label'] == '1'].sum()\n",
    "print('Number of people who quoted the positive tweets >>',pos_quote1)"
   ]
  },
  {
   "cell_type": "code",
   "execution_count": 104,
   "metadata": {},
   "outputs": [
    {
     "data": {
      "image/png": "[encoded data removed]",
      "text/plain": [
       "<Figure size 720x504 with 1 Axes>"
      ]
     },
     "metadata": {
      "needs_background": "light"
     },
     "output_type": "display_data"
    }
   ],
   "source": [
    "#plot the number of people who reacted to tweets\n",
    "plt.figure(num=None, figsize=(10, 7))\n",
    "Labels=['negitives','positives']\n",
    "d1 = [neg_retweets1, pos_retweets1]\n",
    "d2 = [neg_likes1, pos_likes1]\n",
    "d3 = [neg_reply1, pos_reply1]\n",
    "d4 = [neg_quote1, pos_quote1]\n",
    "\n",
    "y_pos=np.arange(len(Labels))\n",
    "plt.bar(y_pos + 0, d1,width=0.2, color = 'navy' , label='retweets')\n",
    "plt.bar(y_pos + 0.2,d2, width=0.2,color = 'skyblue',label = 'likes')\n",
    "plt.bar(y_pos + 0.4,d3,width=0.2, color = 'darkcyan' , label='reply')\n",
    "plt.bar(y_pos + 0.6, d4,width=0.2, color = 'black' , label='quote')\n",
    "\n",
    "plt.xticks(y_pos, Labels)\n",
    "plt.legend(('retweets','likes', 'reply', 'quote'))\n",
    "plt.ylabel('Numbers of users')\n",
    "plt.xlabel('properties')\n",
    "plt.title(\"Number of users who reacted to tweets\")\n",
    "plt.show()"
   ]
  },
  {
   "cell_type": "code",
   "execution_count": 105,
   "metadata": {},
   "outputs": [
    {
     "data": {
      "image/png": "[encoded data removed]",
      "text/plain": [
       "<Figure size 720x504 with 1 Axes>"
      ]
     },
     "metadata": {},
     "output_type": "display_data"
    }
   ],
   "source": [
    "#graph the locations of negative tweets\n",
    "from matplotlib import pyplot as plt\n",
    "import numpy as np\n",
    "labels = df_english['location'][df_english['label'] == '0'].unique().tolist()\n",
    "data = df_english['location'][df_english['label'] == '0'].value_counts().tolist()\n",
    "\n",
    "fig = plt.figure(figsize =(10, 7))\n",
    "plt.pie(data, labels = labels, autopct='%1.2f%%')\n",
    "\n",
    "plt.title(label=\"Location of negative tweets\",\n",
    "          loc=\"center\",\n",
    "          fontstyle='italic')\n",
    "  \n",
    "# show plot\n",
    "plt.show()"
   ]
  },
  {
   "cell_type": "markdown",
   "metadata": {},
   "source": [
    "The high numbers associated with positive tweets are understandable due to the high number of positive labels in our data. However, negative tweets had high numbers of retweets and likes relative to the actual tweets numbers and lower numbers of quotes and replies, which indicates that many users are spreading their concerns about the vaccines, which in turn can indicate that large number of people need to be ensured and their concerns need to be answered in order to overcome the pandemic.\n",
    "\n",
    "Therefore, we will be building a classification model to predict a tweet to be negative or positive in order to identify people who are sceptical about the vaccines, analyze their reasons, and design campagins to address their concerns."
   ]
  },
  {
   "cell_type": "markdown",
   "metadata": {},
   "source": [
    "#### Classifying English Tweets"
   ]
  },
  {
   "cell_type": "markdown",
   "metadata": {},
   "source": [
    "The data was already cleaned so we will move directly to splitting the data and preprocessing. We will be getting the text column and the labels, then we will be splitting the data into 80% train and 20% test since the data is a bit imbalanced and has a small size."
   ]
  },
  {
   "cell_type": "code",
   "execution_count": 106,
   "metadata": {},
   "outputs": [],
   "source": [
    "import english as ep  # local module"
   ]
  },
  {
   "cell_type": "markdown",
   "metadata": {},
   "source": [
    "##### Splitting and Preprocessing"
   ]
  },
  {
   "cell_type": "code",
   "execution_count": 107,
   "metadata": {},
   "outputs": [
    {
     "name": "stdout",
     "output_type": "stream",
     "text": [
      "Train data shape >> (1283,)\n",
      "Test data shape >> (321,)\n"
     ]
    }
   ],
   "source": [
    "#getting the data\n",
    "df_english = df_english[['full_tweets', 'label']]\n",
    "\n",
    "#split the data into train and test\n",
    "train_corpus1, test_corpus1, train_label1, test_label1 = train_test_split(df_english['full_tweets'],df_english['label'],\n",
    "                                                                      test_size=0.20, random_state=42)\n",
    "print('Train data shape >>', train_corpus1.shape)\n",
    "print('Test data shape >>', test_corpus1.shape)"
   ]
  },
  {
   "cell_type": "markdown",
   "metadata": {},
   "source": [
    "##### Step 1: Raw Data - Build the minimum pipeline without preprocessing"
   ]
  },
  {
   "cell_type": "code",
   "execution_count": 108,
   "metadata": {},
   "outputs": [
    {
     "name": "stdout",
     "output_type": "stream",
     "text": [
      "TFIDF model:> Train features shape: (1283, 4592)  test features shape: (321, 4592)\n"
     ]
    }
   ],
   "source": [
    "# Use Raw Data with TF-IDF\n",
    "tv1_train_features,tv1_test_features = fe.tfidf_vectors(train_corpus1, test_corpus1,ngram_range=(1,1),max_features=None)\n",
    "print('TFIDF model:> Train features shape:', tv1_train_features.shape,' test features shape:', tv1_test_features.shape)"
   ]
  },
  {
   "cell_type": "code",
   "execution_count": 109,
   "metadata": {},
   "outputs": [
    {
     "name": "stdout",
     "output_type": "stream",
     "text": [
      "TF-IDF + Raw Data Train Mean ROC AUC score >>  0.7649828292627021\n"
     ]
    }
   ],
   "source": [
    "# Naïve Bayes Classifier\n",
    "Raw_Train_Score=m.naive_bayes_model1(tv1_train_features, train_label1)\n",
    "print('TF-IDF + Raw Data Train Mean ROC AUC score >> ', Raw_Train_Score)"
   ]
  },
  {
   "cell_type": "markdown",
   "metadata": {},
   "source": [
    "##### Step 2: Execute each preprocessing step alone to check its impact on the same previous model¶"
   ]
  },
  {
   "cell_type": "markdown",
   "metadata": {},
   "source": [
    "We tried several preprocessing methods such as stopwords removal, stemming (Porter, lancaster & Snowball), lemmatization,text lowering, and accented chatacters. However, we will report the ones that improved the performance on the cross validated AUC Score."
   ]
  },
  {
   "cell_type": "markdown",
   "metadata": {},
   "source": [
    "<p style=\"color:blue; font-size:16px;\">Stopword Removal</p>"
   ]
  },
  {
   "cell_type": "code",
   "execution_count": 110,
   "metadata": {},
   "outputs": [
    {
     "name": "stdout",
     "output_type": "stream",
     "text": [
      "TFIDF model:> Train features shape: (1283, 4469)  Test features shape: (235, 4469)\n",
      "TF-IDF + Stopword removal Train Score >>  0.7683645844845299\n",
      "Percentage improvement in Train Score >>  0.442069428550075\n"
     ]
    }
   ],
   "source": [
    "#Apply stopword removal on train data\n",
    "norm_train_corpus1 = ep.normalize_corpus(corpus=train_corpus1, \n",
    "                      accented_char_removal=False, text_lower_case=False, \n",
    "                      text_lemmatization=False,stopword_removal=True,text_stemming = False,stem='ps')\n",
    "\n",
    "# Use the new Data with TF-IDF\n",
    "tv1_train_features,tv1_test_features = fe.tfidf_vectors(norm_train_corpus1, test_corpus,ngram_range=(1,1),max_features=None)\n",
    "print('TFIDF model:> Train features shape:', tv1_train_features.shape,' Test features shape:', tv1_test_features.shape)\n",
    "\n",
    "\n",
    "# Naïve Bayes Classifier\n",
    "Train_Score1=m.naive_bayes_model1(tv1_train_features, train_label1)\n",
    "print('TF-IDF + Stopword removal Train Score >> ', Train_Score1)\n",
    "\n",
    "#calculate the improvement in accuracy on validation data in %\n",
    "improvement = (Train_Score1 - Raw_Train_Score)/ Raw_Train_Score\n",
    "print('Percentage improvement in Train Score >> ' , '%.15f' % (improvement * 100))"
   ]
  },
  {
   "cell_type": "markdown",
   "metadata": {},
   "source": [
    "<p style=\"color:blue; font-size:16px;\">Accented Char removal</p>"
   ]
  },
  {
   "cell_type": "code",
   "execution_count": 111,
   "metadata": {},
   "outputs": [
    {
     "name": "stdout",
     "output_type": "stream",
     "text": [
      "TFIDF model:> Train features shape: (1283, 4587)  Test features shape: (235, 4587)\n",
      "TF-IDF + Stemmer Train Score >>  0.7656648288452014\n",
      "Percentage improvement in Train Score >>  0.089152273281294\n"
     ]
    }
   ],
   "source": [
    "#Apply accented char removal on train data\n",
    "norm_train_corpus1 = ep.normalize_corpus(corpus=train_corpus1, \n",
    "                      accented_char_removal=True, text_lower_case=False, \n",
    "                      text_lemmatization=False,stopword_removal=False,text_stemming =False,stem='ps')\n",
    "\n",
    "# Use the new Data with TF-IDF\n",
    "tv1_train_features,tv1_test_features = fe.tfidf_vectors(norm_train_corpus1, test_corpus,ngram_range=(1,1),max_features=None)\n",
    "print('TFIDF model:> Train features shape:', tv1_train_features.shape,' Test features shape:', tv1_test_features.shape)\n",
    "\n",
    "\n",
    "# Naïve Bayes Classifier\n",
    "Train_Score1=m.naive_bayes_model1(tv1_train_features, train_label1)\n",
    "print('TF-IDF + Stemmer Train Score >> ', Train_Score1)\n",
    "\n",
    "#calculate the improvement in accuracy on validation data in %\n",
    "improvement = (Train_Score1 - Raw_Train_Score)/ Raw_Train_Score\n",
    "print('Percentage improvement in Train Score >> ' , '%.15f' % (improvement * 100))"
   ]
  },
  {
   "cell_type": "markdown",
   "metadata": {},
   "source": [
    "Now we will try to combine the methods in the following order to see if the improvement would increase further. We tried several orders of the preprocessing methods but we found that the following order is the best:\n",
    "\n",
    "* Accented character removal\n",
    "* Stopwords removal"
   ]
  },
  {
   "cell_type": "code",
   "execution_count": 112,
   "metadata": {},
   "outputs": [
    {
     "name": "stdout",
     "output_type": "stream",
     "text": [
      "TFIDF model:> Train features shape: (1283, 4464)  Test features shape: (235, 4464)\n",
      "TF-IDF + Stemmer Train Score >>  0.7690310301214437\n",
      "Percentage improvement in Train Score >>  0.529188460693069\n"
     ]
    }
   ],
   "source": [
    "#Apply all on train data\n",
    "norm_train_corpus1 = ep.normalize_corpus(corpus=train_corpus1, \n",
    "                      accented_char_removal=True, text_lower_case=False, \n",
    "                      text_lemmatization=False,stopword_removal=True,text_stemming=False,stem='ps')\n",
    "\n",
    "# Use the new Data with TF-IDF\n",
    "tv1_train_features,tv1_test_features = fe.tfidf_vectors(norm_train_corpus1, test_corpus,ngram_range=(1,1),max_features=None)\n",
    "print('TFIDF model:> Train features shape:', tv1_train_features.shape,' Test features shape:', tv1_test_features.shape)\n",
    "\n",
    "\n",
    "# Naïve Bayes Classifier\n",
    "Train_Score1=m.naive_bayes_model1(tv1_train_features, train_label1)\n",
    "print('TF-IDF + Stemmer Train Score >> ', Train_Score1)\n",
    "\n",
    "#calculate the improvement in accuracy on validation data in %\n",
    "improvement = (Train_Score1 - Raw_Train_Score)/ Raw_Train_Score\n",
    "print('Percentage improvement in Train Score >> ' , '%.15f' % (improvement * 100))"
   ]
  },
  {
   "cell_type": "markdown",
   "metadata": {},
   "source": [
    "##### Feature extraction and models"
   ]
  },
  {
   "cell_type": "markdown",
   "metadata": {},
   "source": [
    "We will now experiment with different feature engineering & classification models. We tried BOW(unigram + bigram) and TF-IDF(unigram + bigram), but we decided that the bigram was better on almost all the models."
   ]
  },
  {
   "cell_type": "markdown",
   "metadata": {},
   "source": [
    "##### BOW (bigram)"
   ]
  },
  {
   "cell_type": "code",
   "execution_count": 113,
   "metadata": {},
   "outputs": [
    {
     "name": "stdout",
     "output_type": "stream",
     "text": [
      "Bigram BOW model:> Train features shape: (1283, 15670)  Test features shape: (321, 15670)\n"
     ]
    }
   ],
   "source": [
    "cv1_train_features,cv1_test_features = fe.bow_vectors(norm_train_corpus1, test_corpus1,ngram_range=(1,2),max_features=None)\n",
    "print('Bigram BOW model:> Train features shape:', cv1_train_features.shape,' Test features shape:', cv1_test_features.shape)"
   ]
  },
  {
   "cell_type": "markdown",
   "metadata": {},
   "source": [
    "##### Naive Bayes Complement"
   ]
  },
  {
   "cell_type": "code",
   "execution_count": 114,
   "metadata": {},
   "outputs": [
    {
     "name": "stdout",
     "output_type": "stream",
     "text": [
      "Bigram BoW + CNB Auc Score >>  0.7573570571934952\n"
     ]
    }
   ],
   "source": [
    "bow_cnb_auc_score1= m.naive_bayes_cnb(cv1_train_features, train_label1 ,alpha=1.0)\n",
    "print('Bigram BoW + CNB Auc Score >> ', bow_cnb_auc_score1)"
   ]
  },
  {
   "cell_type": "markdown",
   "metadata": {},
   "source": [
    "##### Logistic Regression"
   ]
  },
  {
   "cell_type": "code",
   "execution_count": 115,
   "metadata": {},
   "outputs": [
    {
     "name": "stdout",
     "output_type": "stream",
     "text": [
      "Bigram BoW + lr Auc Score >>  0.7684346591025374\n"
     ]
    }
   ],
   "source": [
    "bow_lr_auc_score1=m.logistic_model(cv1_train_features, train_label1,C=1.0,max_iter=1000)\n",
    "print('Bigram BoW + lr Auc Score >> ', bow_lr_auc_score1)"
   ]
  },
  {
   "cell_type": "markdown",
   "metadata": {},
   "source": [
    "##### KNN"
   ]
  },
  {
   "cell_type": "code",
   "execution_count": 116,
   "metadata": {},
   "outputs": [
    {
     "name": "stdout",
     "output_type": "stream",
     "text": [
      "Bigram BoW + knn Auc Score >>  0.6011099377432861\n"
     ]
    }
   ],
   "source": [
    "bow_knn_auc_score1=m.knn_model(cv1_train_features, train_label1,n_neighbors=5)\n",
    "print('Bigram BoW + knn Auc Score >> ', bow_knn_auc_score1)"
   ]
  },
  {
   "cell_type": "markdown",
   "metadata": {},
   "source": [
    "##### Decision Tree"
   ]
  },
  {
   "cell_type": "code",
   "execution_count": 117,
   "metadata": {},
   "outputs": [
    {
     "name": "stdout",
     "output_type": "stream",
     "text": [
      "Bigram BoW + clf Auc Score >>  0.6097388165084666\n"
     ]
    }
   ],
   "source": [
    "bow_clf_auc_score1=m.decision_tree_model(cv1_train_features, train_label1,max_depth=None)\n",
    "print('Bigram BoW + clf Auc Score >> ', bow_clf_auc_score1)"
   ]
  },
  {
   "cell_type": "markdown",
   "metadata": {},
   "source": [
    "##### TF-IDF (bigram)"
   ]
  },
  {
   "cell_type": "code",
   "execution_count": 118,
   "metadata": {},
   "outputs": [
    {
     "name": "stdout",
     "output_type": "stream",
     "text": [
      "TFIDF model:> Train features shape: (1283, 15670)  Test features shape: (321, 15670)\n"
     ]
    }
   ],
   "source": [
    "tv1_train_features,tv1_test_features = fe.tfidf_vectors(norm_train_corpus1, test_corpus1,ngram_range=(1,2),max_features=None)\n",
    "print('TFIDF model:> Train features shape:', tv1_train_features.shape,' Test features shape:', tv1_test_features.shape)"
   ]
  },
  {
   "cell_type": "markdown",
   "metadata": {},
   "source": [
    "##### Naive Bayes Complement"
   ]
  },
  {
   "cell_type": "code",
   "execution_count": 119,
   "metadata": {},
   "outputs": [
    {
     "name": "stdout",
     "output_type": "stream",
     "text": [
      "Bigram Tf-IDF + cnb Auc Score >>  0.7684524233456537\n"
     ]
    }
   ],
   "source": [
    "tv_cnb_auc_score1=m.naive_bayes_cnb(tv1_train_features, train_label1,alpha=1.0)\n",
    "print('Bigram Tf-IDF + cnb Auc Score >> ', tv_cnb_auc_score1)"
   ]
  },
  {
   "cell_type": "markdown",
   "metadata": {},
   "source": [
    "##### Logistic Regression"
   ]
  },
  {
   "cell_type": "code",
   "execution_count": 120,
   "metadata": {},
   "outputs": [
    {
     "name": "stdout",
     "output_type": "stream",
     "text": [
      "Bigram Tf-IDF + lr Auc Score >>  0.790137488692691\n"
     ]
    }
   ],
   "source": [
    "tv_lr_auc_score1=m.logistic_model(tv1_train_features, train_label1,C=1.0,max_iter=1000)\n",
    "print('Bigram Tf-IDF + lr Auc Score >> ', tv_lr_auc_score1)"
   ]
  },
  {
   "cell_type": "markdown",
   "metadata": {},
   "source": [
    "##### KNN"
   ]
  },
  {
   "cell_type": "code",
   "execution_count": 121,
   "metadata": {},
   "outputs": [
    {
     "name": "stdout",
     "output_type": "stream",
     "text": [
      "Bigram Tf-IDF + knn Auc Score >>  0.6871162166255307\n"
     ]
    }
   ],
   "source": [
    "tv_knn_auc_score1=m.knn_model(tv1_train_features, train_label1,n_neighbors=5)\n",
    "print('Bigram Tf-IDF + knn Auc Score >> ', tv_knn_auc_score1)"
   ]
  },
  {
   "cell_type": "markdown",
   "metadata": {},
   "source": [
    "##### Decision Tree"
   ]
  },
  {
   "cell_type": "code",
   "execution_count": 122,
   "metadata": {},
   "outputs": [
    {
     "name": "stdout",
     "output_type": "stream",
     "text": [
      "Bigram Tf-IDF + clf Auc Score >>  0.5934685707970578\n"
     ]
    }
   ],
   "source": [
    "tv_clf_auc_score1=m.decision_tree_model(tv1_train_features, train_label1,max_depth=None)\n",
    "print('Bigram Tf-IDF + clf Auc Score >> ', tv_clf_auc_score1)"
   ]
  },
  {
   "cell_type": "code",
   "execution_count": 123,
   "metadata": {},
   "outputs": [
    {
     "data": {
      "text/html": [
       "<div>\n",
       "<style scoped>\n",
       "    .dataframe tbody tr th:only-of-type {\n",
       "        vertical-align: middle;\n",
       "    }\n",
       "\n",
       "    .dataframe tbody tr th {\n",
       "        vertical-align: top;\n",
       "    }\n",
       "\n",
       "    .dataframe thead th {\n",
       "        text-align: right;\n",
       "    }\n",
       "</style>\n",
       "<table border=\"1\" class=\"dataframe\">\n",
       "  <thead>\n",
       "    <tr style=\"text-align: right;\">\n",
       "      <th></th>\n",
       "      <th>Model</th>\n",
       "      <th>AUC Score(BOW Bigram)</th>\n",
       "      <th>AUC Score(Tf-Idf Bigram)</th>\n",
       "    </tr>\n",
       "  </thead>\n",
       "  <tbody>\n",
       "    <tr>\n",
       "      <th>0</th>\n",
       "      <td>Naive Bayes Compliment</td>\n",
       "      <td>0.757357</td>\n",
       "      <td>0.768452</td>\n",
       "    </tr>\n",
       "    <tr>\n",
       "      <th>1</th>\n",
       "      <td>Logistic Regression</td>\n",
       "      <td>0.768435</td>\n",
       "      <td>0.790137</td>\n",
       "    </tr>\n",
       "    <tr>\n",
       "      <th>2</th>\n",
       "      <td>KNN</td>\n",
       "      <td>0.601110</td>\n",
       "      <td>0.687116</td>\n",
       "    </tr>\n",
       "    <tr>\n",
       "      <th>3</th>\n",
       "      <td>Decision Tree</td>\n",
       "      <td>0.609739</td>\n",
       "      <td>0.593469</td>\n",
       "    </tr>\n",
       "  </tbody>\n",
       "</table>\n",
       "</div>"
      ],
      "text/plain": [
       "                    Model  AUC Score(BOW Bigram)  AUC Score(Tf-Idf Bigram)\n",
       "0  Naive Bayes Compliment               0.757357                  0.768452\n",
       "1     Logistic Regression               0.768435                  0.790137\n",
       "2                     KNN               0.601110                  0.687116\n",
       "3           Decision Tree               0.609739                  0.593469"
      ]
     },
     "execution_count": 123,
     "metadata": {},
     "output_type": "execute_result"
    }
   ],
   "source": [
    "pd.DataFrame([\n",
    "              ['Naive Bayes Compliment',bow_cnb_auc_score1,tv_cnb_auc_score1],\n",
    "              ['Logistic Regression',bow_lr_auc_score1,tv_lr_auc_score1],\n",
    "              ['KNN',bow_knn_auc_score1,tv_knn_auc_score1],\n",
    "              ['Decision Tree',bow_clf_auc_score1,tv_clf_auc_score1]],\n",
    "             columns=['Model', 'AUC Score(BOW Bigram)','AUC Score(Tf-Idf Bigram)'])"
   ]
  },
  {
   "cell_type": "markdown",
   "metadata": {},
   "source": [
    "We conclude that the logistic regression is the best model with the highest cross validation auc score. We will apply this model on the test dataset after fine tuning the model"
   ]
  },
  {
   "cell_type": "code",
   "execution_count": 124,
   "metadata": {},
   "outputs": [],
   "source": [
    "from sklearn.linear_model import LogisticRegression\n",
    "from sklearn.model_selection import cross_val_score, cross_val_predict\n",
    "from sklearn.metrics import roc_auc_score, confusion_matrix, roc_curve\n",
    "import numpy as np\n",
    "from sklearn.model_selection import RandomizedSearchCV\n",
    "from scipy.stats import randint"
   ]
  },
  {
   "cell_type": "code",
   "execution_count": 125,
   "metadata": {},
   "outputs": [
    {
     "data": {
      "text/plain": [
       "RandomizedSearchCV(cv=5, estimator=LogisticRegression(random_state=42),\n",
       "                   param_distributions={'C': <scipy.stats._distn_infrastructure.rv_frozen object at 0x000001FFA06C4220>,\n",
       "                                        'max_iter': <scipy.stats._distn_infrastructure.rv_frozen object at 0x000001FFA06EBB80>},\n",
       "                   random_state=42, scoring='roc_auc')"
      ]
     },
     "execution_count": 125,
     "metadata": {},
     "output_type": "execute_result"
    }
   ],
   "source": [
    "lr = LogisticRegression(penalty='l2', random_state=42)\n",
    "\n",
    "param_distribs = {'max_iter': randint(low=100, high=1000),'C': randint(low=0.01, high=10)}\n",
    "\n",
    "rnd_search_lr = RandomizedSearchCV(lr, param_distributions=param_distribs,\n",
    "                                n_iter=10, cv=5, scoring='roc_auc', random_state=42)\n",
    "\n",
    "rnd_search_lr.fit(tv1_train_features, train_label1)"
   ]
  },
  {
   "cell_type": "code",
   "execution_count": 126,
   "metadata": {},
   "outputs": [],
   "source": [
    "final_model1 = rnd_search_lr.best_estimator_"
   ]
  },
  {
   "cell_type": "markdown",
   "metadata": {},
   "source": [
    "###### Evaluate on test"
   ]
  },
  {
   "cell_type": "code",
   "execution_count": 127,
   "metadata": {},
   "outputs": [],
   "source": [
    "#Apply all on test data\n",
    "norm_test_corpus1 = ep.normalize_corpus(corpus=test_corpus1, \n",
    "                      accented_char_removal=True, text_lower_case=False, \n",
    "                      text_lemmatization=False,stopword_removal=True,text_stemming=False,stem='ps')"
   ]
  },
  {
   "cell_type": "code",
   "execution_count": 128,
   "metadata": {},
   "outputs": [
    {
     "name": "stdout",
     "output_type": "stream",
     "text": [
      "TFIDF model:> Train features shape: (1283, 15670)  Test features shape: (321, 15670)\n",
      "Final AUC Score on the test dataset >>  0.7273268378138736\n"
     ]
    }
   ],
   "source": [
    "tv1_train_features,tv1_test_features = fe.tfidf_vectors(norm_train_corpus1, norm_test_corpus1,ngram_range=(1,2),max_features=None)\n",
    "print('TFIDF model:> Train features shape:', tv1_train_features.shape,' Test features shape:', tv1_test_features.shape)\n",
    "\n",
    "\n",
    "#apply the model\n",
    "predictions1 = final_model1.predict(tv1_test_features)\n",
    "final_auc1 = roc_auc_score(test_label1, predictions1)\n",
    "print('Final AUC Score on the test dataset >> ', np.sqrt(final_auc1))"
   ]
  },
  {
   "cell_type": "markdown",
   "metadata": {},
   "source": [
    "The model score on the test set is acceptable, but it is not very high. Therefore, further inspection of the model might be needed to imporve the performance."
   ]
  },
  {
   "cell_type": "code",
   "execution_count": 129,
   "metadata": {},
   "outputs": [
    {
     "name": "stdout",
     "output_type": "stream",
     "text": [
      "MySQL connection is closed\n"
     ]
    }
   ],
   "source": [
    "#closing the connection to MYSQL\n",
    "if database_connection.is_connected():\n",
    "    mycursor.close()\n",
    "    database_connection.close()\n",
    "    print(\"MySQL connection is closed\")"
   ]
  }
 ],
 "metadata": {
  "kernelspec": {
   "display_name": "Python 3",
   "language": "python",
   "name": "python3"
  },
  "language_info": {
   "codemirror_mode": {
    "name": "ipython",
    "version": 3
   },
   "file_extension": ".py",
   "mimetype": "text/x-python",
   "name": "python",
   "nbconvert_exporter": "python",
   "pygments_lexer": "ipython3",
   "version": "3.8.5"
  }
 },
 "nbformat": 4,
 "nbformat_minor": 4
}
